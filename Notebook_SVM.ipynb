{
 "cells": [
  {
   "cell_type": "code",
   "execution_count": 1,
   "metadata": {
    "executionInfo": {
     "elapsed": 2266,
     "status": "ok",
     "timestamp": 1650891801390,
     "user": {
      "displayName": "Alex Putman",
      "userId": "18022789089794760610"
     },
     "user_tz": 240
    },
    "id": "oDFzNIg948B_"
   },
   "outputs": [],
   "source": [
    "import os\n",
    "import pandas as pd\n",
    "import numpy as np\n",
    "import matplotlib as mpl\n",
    "%matplotlib inline\n",
    "import matplotlib.pyplot as plt\n",
    "from IPython.display import display\n",
    "from PIL import Image\n",
    "from skimage.feature import hog\n",
    "from skimage.color import rgb2gray\n",
    "from sklearn.preprocessing import StandardScaler\n",
    "from sklearn.decomposition import PCA\n",
    "from sklearn.model_selection import train_test_split\n",
    "from sklearn.svm import SVC\n",
    "from sklearn.metrics import roc_curve, auc, accuracy_score, recall_score, precision_score\n",
    "\n"
   ]
  },
  {
   "cell_type": "code",
   "execution_count": 2,
   "metadata": {
    "executionInfo": {
     "elapsed": 148,
     "status": "ok",
     "timestamp": 1650891802386,
     "user": {
      "displayName": "Alex Putman",
      "userId": "18022789089794760610"
     },
     "user_tz": 240
    },
    "id": "rCU5mGVsgxBg"
   },
   "outputs": [],
   "source": [
    "from pathlib import Path\n",
    "import matplotlib as mpl\n",
    "import matplotlib.pyplot as plt\n",
    "%matplotlib inline\n",
    "import pandas as pd\n",
    "import numpy as np\n",
    "from PIL import Image\n",
    "from skimage.feature import blob\n",
    "from skimage.feature import hog\n",
    "from skimage.color import rgb2gray\n",
    "from sklearn.preprocessing import StandardScaler\n",
    "from sklearn.decomposition import PCA\n",
    "from sklearn.model_selection import train_test_split\n",
    "from sklearn.svm import SVC\n",
    "from sklearn.metrics import roc_curve, auc, accuracy_score, log_loss\n",
    "test_data = np.random.beta(1,1, size= (100,100,3))"
   ]
  },
  {
   "cell_type": "code",
   "execution_count": 1,
   "metadata": {
    "colab": {
     "base_uri": "https://localhost:8080/"
    },
    "executionInfo": {
     "elapsed": 17265,
     "status": "ok",
     "timestamp": 1650891834195,
     "user": {
      "displayName": "Alex Putman",
      "userId": "18022789089794760610"
     },
     "user_tz": 240
    },
    "id": "yOFCgETUiwR8",
    "outputId": "4565a8ab-cb16-46a1-efd2-6ac005ccc194"
   },
   "outputs": [
    {
     "name": "stdout",
     "output_type": "stream",
     "text": [
      "G:\\Shared drives\\ML PROJECT\\FP_Nehal_Anthony_Alex\n",
      " Volume in drive G is Google Drive\n",
      " Volume Serial Number is 1983-1116\n",
      "\n",
      " Directory of G:\\Shared drives\\ML PROJECT\\FP_Nehal_Anthony_Alex\n",
      "\n",
      "2022-04-26  03:33 PM    <DIR>          .\n",
      "2022-04-26  03:26 PM    <DIR>          ..\n",
      "2022-04-26  03:13 PM    <DIR>          EDA\n",
      "2022-04-26  04:07 PM    <DIR>          Original_data\n",
      "2022-04-26  04:04 PM    <DIR>          pseudo_resnet20\n",
      "2022-04-26  03:31 PM                 0 Readme.txt\n",
      "2022-04-26  03:14 PM    <DIR>          ResNet20\n",
      "2022-04-26  04:07 PM    <DIR>          Resnet50\n",
      "2022-04-26  03:30 PM    <DIR>          SVM\n",
      "2022-04-26  04:05 PM    <DIR>          VanillaCNN\n",
      "               1 File(s)              0 bytes\n",
      "               9 Dir(s)  18,157,404,160 bytes free\n"
     ]
    }
   ],
   "source": [
    "# from google.colab import drive\n",
    "# drive.mount('/content/drive')\n",
    "# %cd 'drive/Shareddrives/ML PROJECT'\n",
    "%cd ..\n",
    "%ls"
   ]
  },
  {
   "cell_type": "code",
   "execution_count": 4,
   "metadata": {
    "colab": {
     "base_uri": "https://localhost:8080/",
     "height": 738
    },
    "executionInfo": {
     "elapsed": 8394,
     "status": "ok",
     "timestamp": 1650891854317,
     "user": {
      "displayName": "Alex Putman",
      "userId": "18022789089794760610"
     },
     "user_tz": 240
    },
    "id": "eO3URNPD5TkR",
    "outputId": "5041c96f-35b3-45e5-b93f-7a08fe8e5829"
   },
   "outputs": [
    {
     "data": {
      "text/html": [
       "\n",
       "  <div id=\"df-072f539e-b2fc-4f45-8772-7ff8afb91b03\">\n",
       "    <div class=\"colab-df-container\">\n",
       "      <div>\n",
       "<style scoped>\n",
       "    .dataframe tbody tr th:only-of-type {\n",
       "        vertical-align: middle;\n",
       "    }\n",
       "\n",
       "    .dataframe tbody tr th {\n",
       "        vertical-align: top;\n",
       "    }\n",
       "\n",
       "    .dataframe thead th {\n",
       "        text-align: right;\n",
       "    }\n",
       "</style>\n",
       "<table border=\"1\" class=\"dataframe\">\n",
       "  <thead>\n",
       "    <tr style=\"text-align: right;\">\n",
       "      <th></th>\n",
       "      <th>genus</th>\n",
       "    </tr>\n",
       "    <tr>\n",
       "      <th>id</th>\n",
       "      <th></th>\n",
       "    </tr>\n",
       "  </thead>\n",
       "  <tbody>\n",
       "    <tr>\n",
       "      <th>520</th>\n",
       "      <td>1.0</td>\n",
       "    </tr>\n",
       "    <tr>\n",
       "      <th>3800</th>\n",
       "      <td>1.0</td>\n",
       "    </tr>\n",
       "    <tr>\n",
       "      <th>3289</th>\n",
       "      <td>1.0</td>\n",
       "    </tr>\n",
       "    <tr>\n",
       "      <th>2695</th>\n",
       "      <td>1.0</td>\n",
       "    </tr>\n",
       "    <tr>\n",
       "      <th>4922</th>\n",
       "      <td>1.0</td>\n",
       "    </tr>\n",
       "  </tbody>\n",
       "</table>\n",
       "</div>\n",
       "      <button class=\"colab-df-convert\" onclick=\"convertToInteractive('df-072f539e-b2fc-4f45-8772-7ff8afb91b03')\"\n",
       "              title=\"Convert this dataframe to an interactive table.\"\n",
       "              style=\"display:none;\">\n",
       "        \n",
       "  <svg xmlns=\"http://www.w3.org/2000/svg\" height=\"24px\"viewBox=\"0 0 24 24\"\n",
       "       width=\"24px\">\n",
       "    <path d=\"M0 0h24v24H0V0z\" fill=\"none\"/>\n",
       "    <path d=\"M18.56 5.44l.94 2.06.94-2.06 2.06-.94-2.06-.94-.94-2.06-.94 2.06-2.06.94zm-11 1L8.5 8.5l.94-2.06 2.06-.94-2.06-.94L8.5 2.5l-.94 2.06-2.06.94zm10 10l.94 2.06.94-2.06 2.06-.94-2.06-.94-.94-2.06-.94 2.06-2.06.94z\"/><path d=\"M17.41 7.96l-1.37-1.37c-.4-.4-.92-.59-1.43-.59-.52 0-1.04.2-1.43.59L10.3 9.45l-7.72 7.72c-.78.78-.78 2.05 0 2.83L4 21.41c.39.39.9.59 1.41.59.51 0 1.02-.2 1.41-.59l7.78-7.78 2.81-2.81c.8-.78.8-2.07 0-2.86zM5.41 20L4 18.59l7.72-7.72 1.47 1.35L5.41 20z\"/>\n",
       "  </svg>\n",
       "      </button>\n",
       "      \n",
       "  <style>\n",
       "    .colab-df-container {\n",
       "      display:flex;\n",
       "      flex-wrap:wrap;\n",
       "      gap: 12px;\n",
       "    }\n",
       "\n",
       "    .colab-df-convert {\n",
       "      background-color: #E8F0FE;\n",
       "      border: none;\n",
       "      border-radius: 50%;\n",
       "      cursor: pointer;\n",
       "      display: none;\n",
       "      fill: #1967D2;\n",
       "      height: 32px;\n",
       "      padding: 0 0 0 0;\n",
       "      width: 32px;\n",
       "    }\n",
       "\n",
       "    .colab-df-convert:hover {\n",
       "      background-color: #E2EBFA;\n",
       "      box-shadow: 0px 1px 2px rgba(60, 64, 67, 0.3), 0px 1px 3px 1px rgba(60, 64, 67, 0.15);\n",
       "      fill: #174EA6;\n",
       "    }\n",
       "\n",
       "    [theme=dark] .colab-df-convert {\n",
       "      background-color: #3B4455;\n",
       "      fill: #D2E3FC;\n",
       "    }\n",
       "\n",
       "    [theme=dark] .colab-df-convert:hover {\n",
       "      background-color: #434B5C;\n",
       "      box-shadow: 0px 1px 3px 1px rgba(0, 0, 0, 0.15);\n",
       "      filter: drop-shadow(0px 1px 2px rgba(0, 0, 0, 0.3));\n",
       "      fill: #FFFFFF;\n",
       "    }\n",
       "  </style>\n",
       "\n",
       "      <script>\n",
       "        const buttonEl =\n",
       "          document.querySelector('#df-072f539e-b2fc-4f45-8772-7ff8afb91b03 button.colab-df-convert');\n",
       "        buttonEl.style.display =\n",
       "          google.colab.kernel.accessAllowed ? 'block' : 'none';\n",
       "\n",
       "        async function convertToInteractive(key) {\n",
       "          const element = document.querySelector('#df-072f539e-b2fc-4f45-8772-7ff8afb91b03');\n",
       "          const dataTable =\n",
       "            await google.colab.kernel.invokeFunction('convertToInteractive',\n",
       "                                                     [key], {});\n",
       "          if (!dataTable) return;\n",
       "\n",
       "          const docLinkHtml = 'Like what you see? Visit the ' +\n",
       "            '<a target=\"_blank\" href=https://colab.research.google.com/notebooks/data_table.ipynb>data table notebook</a>'\n",
       "            + ' to learn more about interactive tables.';\n",
       "          element.innerHTML = '';\n",
       "          dataTable['output_type'] = 'display_data';\n",
       "          await google.colab.output.renderOutput(dataTable, element);\n",
       "          const docLink = document.createElement('div');\n",
       "          docLink.innerHTML = docLinkHtml;\n",
       "          element.appendChild(docLink);\n",
       "        }\n",
       "      </script>\n",
       "    </div>\n",
       "  </div>\n",
       "  "
      ],
      "text/plain": [
       "      genus\n",
       "id         \n",
       "520     1.0\n",
       "3800    1.0\n",
       "3289    1.0\n",
       "2695    1.0\n",
       "4922    1.0"
      ]
     },
     "metadata": {},
     "output_type": "display_data"
    },
    {
     "data": {
      "image/png": "[encoded data removed]",
      "text/plain": [
       "<Figure size 432x288 with 1 Axes>"
      ]
     },
     "metadata": {
      "needs_background": "light"
     },
     "output_type": "display_data"
    },
    {
     "data": {
      "image/png": "[encoded data removed]",
      "text/plain": [
       "<Figure size 432x288 with 1 Axes>"
      ]
     },
     "metadata": {
      "needs_background": "light"
     },
     "output_type": "display_data"
    }
   ],
   "source": [
    "labels = pd.read_csv(\"Original_data/dataset_alternate/labels_1.csv\", index_col=0)\n",
    "display(labels.head())\n",
    "\n",
    "def get_image(row_id, root=\"Original_data/dataset_alternate/dataset_1\"):\n",
    "    filename = \"{}.jpg\".format(row_id)\n",
    "    file_path = os.path.join(root, filename)\n",
    "    img = Image.open(file_path)\n",
    "    return np.array(img)\n",
    "apis_row = labels[labels.genus == 0.0].index[5]\n",
    "\n",
    "plt.imshow(get_image(apis_row))\n",
    "plt.show()\n",
    "bombus_row = labels[labels.genus == 1.0].index[5]\n",
    "plt.imshow(get_image(bombus_row))\n",
    "plt.show()\n"
   ]
  },
  {
   "cell_type": "code",
   "execution_count": 5,
   "metadata": {
    "colab": {
     "base_uri": "https://localhost:8080/",
     "height": 302
    },
    "executionInfo": {
     "elapsed": 423,
     "status": "ok",
     "timestamp": 1650891856064,
     "user": {
      "displayName": "Alex Putman",
      "userId": "18022789089794760610"
     },
     "user_tz": 240
    },
    "id": "CwPTbMkN9bFR",
    "outputId": "cb375f34-542e-4fab-9953-e328ff146ce4"
   },
   "outputs": [
    {
     "name": "stdout",
     "output_type": "stream",
     "text": [
      "Color bombus image has shape:  (50, 50, 3)\n",
      "Grayscale bombus image has shape:  (50, 50)\n"
     ]
    },
    {
     "data": {
      "image/png": "[encoded data removed]",
      "text/plain": [
       "<Figure size 432x288 with 1 Axes>"
      ]
     },
     "metadata": {
      "needs_background": "light"
     },
     "output_type": "display_data"
    }
   ],
   "source": [
    "bombus = get_image(bombus_row)\n",
    "print('Color bombus image has shape: ', bombus.shape)\n",
    "gray_bombus = rgb2gray(bombus)\n",
    "plt.imshow(gray_bombus, cmap=mpl.cm.gray)\n",
    "print('Grayscale bombus image has shape: ', gray_bombus.shape)"
   ]
  },
  {
   "cell_type": "code",
   "execution_count": 12,
   "metadata": {
    "colab": {
     "base_uri": "https://localhost:8080/",
     "height": 298
    },
    "executionInfo": {
     "elapsed": 623,
     "status": "ok",
     "timestamp": 1650892832601,
     "user": {
      "displayName": "Alex Putman",
      "userId": "18022789089794760610"
     },
     "user_tz": 240
    },
    "id": "L9LZ4YGt-H9a",
    "outputId": "2c683e50-f8d5-4d0e-dc68-495e2569d547"
   },
   "outputs": [
    {
     "data": {
      "text/plain": [
       "Text(0.5, 1.0, 'HOG image with 2x2 pixles-per-cell ')"
      ]
     },
     "execution_count": 12,
     "metadata": {},
     "output_type": "execute_result"
    },
    {
     "data": {
      "image/png": "[encoded data removed]",
      "text/plain": [
       "<Figure size 432x288 with 1 Axes>"
      ]
     },
     "metadata": {
      "needs_background": "light"
     },
     "output_type": "display_data"
    }
   ],
   "source": [
    "hog_features, hog_image = hog(gray_bombus,\n",
    "                              visualize=True,\n",
    "                              block_norm='L2-Hys',\n",
    "                              pixels_per_cell=(2, 2))\n",
    "\n",
    "plt.imshow(hog_image, cmap=mpl.cm.gray)\n",
    "plt.title(\"HOG image with 2x2 pixles-per-cell \")"
   ]
  },
  {
   "cell_type": "code",
   "execution_count": 13,
   "metadata": {
    "colab": {
     "base_uri": "https://localhost:8080/",
     "height": 298
    },
    "executionInfo": {
     "elapsed": 643,
     "status": "ok",
     "timestamp": 1650892849408,
     "user": {
      "displayName": "Alex Putman",
      "userId": "18022789089794760610"
     },
     "user_tz": 240
    },
    "id": "ovB2JN9y0XmY",
    "outputId": "8d86f090-8c57-4969-a5ce-e2a3c084e701"
   },
   "outputs": [
    {
     "data": {
      "text/plain": [
       "Text(0.5, 1.0, 'HOG image with 8x8 pixles-per-cell ')"
      ]
     },
     "execution_count": 13,
     "metadata": {},
     "output_type": "execute_result"
    },
    {
     "data": {
      "image/png": "[encoded data removed]",
      "text/plain": [
       "<Figure size 432x288 with 1 Axes>"
      ]
     },
     "metadata": {
      "needs_background": "light"
     },
     "output_type": "display_data"
    }
   ],
   "source": [
    "hog_features, hog_image = hog(gray_bombus,\n",
    "                              visualize=True,\n",
    "                              block_norm='L2-Hys',\n",
    "                              pixels_per_cell=(8, 8))\n",
    "\n",
    "plt.imshow(hog_image, cmap=mpl.cm.gray)\n",
    "plt.title(\"HOG image with 8x8 pixles-per-cell \")"
   ]
  },
  {
   "cell_type": "code",
   "execution_count": null,
   "metadata": {
    "colab": {
     "base_uri": "https://localhost:8080/"
    },
    "executionInfo": {
     "elapsed": 123,
     "status": "ok",
     "timestamp": 1650746729045,
     "user": {
      "displayName": "Alex Putman",
      "userId": "18022789089794760610"
     },
     "user_tz": 240
    },
    "id": "9aXm5kd__OAq",
    "outputId": "e53e308e-2ce3-4562-de45-0da9f5490b40"
   },
   "outputs": [
    {
     "data": {
      "text/plain": [
       "(50349,)"
      ]
     },
     "execution_count": 13,
     "metadata": {},
     "output_type": "execute_result"
    }
   ],
   "source": [
    "def create_features(img):\n",
    "    color_features = img.flatten()\n",
    "    gray_image = rgb2gray(img)\n",
    "    hog_features = hog(gray_image, block_norm='L2-Hys', pixels_per_cell=(2, 2))\n",
    "    flat_features = np.hstack([color_features, hog_features])\n",
    "    return flat_features\n",
    "\n",
    "bombus_features = create_features(bombus)\n",
    "bombus_features.shape "
   ]
  },
  {
   "cell_type": "code",
   "execution_count": null,
   "metadata": {
    "id": "rmWh2nvZ_90l"
   },
   "outputs": [],
   "source": [
    "def create_feature_matrix(label_dataframe):\n",
    "    features_list = []\n",
    "    \n",
    "    for img_id in label_dataframe.index:\n",
    "        img = get_image(img_id)\n",
    "        image_features = create_features(img)\n",
    "        features_list.append(image_features)\n",
    "        \n",
    "    feature_matrix = np.array(features_list)\n",
    "    return feature_matrix\n",
    "feature_matrix = create_feature_matrix(labels)"
   ]
  },
  {
   "cell_type": "code",
   "execution_count": null,
   "metadata": {
    "colab": {
     "base_uri": "https://localhost:8080/"
    },
    "executionInfo": {
     "elapsed": 140,
     "status": "ok",
     "timestamp": 1650746777333,
     "user": {
      "displayName": "Alex Putman",
      "userId": "18022789089794760610"
     },
     "user_tz": 240
    },
    "id": "fWpXurz8ATPe",
    "outputId": "2a850d5d-3c09-430f-e991-1cfc3ac1cbb4"
   },
   "outputs": [
    {
     "data": {
      "text/plain": [
       "array([127., 108.,  95., ...,   0.,   0.,   0.])"
      ]
     },
     "execution_count": 15,
     "metadata": {},
     "output_type": "execute_result"
    }
   ],
   "source": [
    "feature_matrix[0]"
   ]
  },
  {
   "cell_type": "code",
   "execution_count": null,
   "metadata": {
    "colab": {
     "base_uri": "https://localhost:8080/"
    },
    "executionInfo": {
     "elapsed": 163,
     "status": "ok",
     "timestamp": 1650746779181,
     "user": {
      "displayName": "Alex Putman",
      "userId": "18022789089794760610"
     },
     "user_tz": 240
    },
    "id": "O9q4vgMaAgPo",
    "outputId": "c019d4e5-6d22-4239-ff1f-ed8ea1277273"
   },
   "outputs": [
    {
     "data": {
      "text/plain": [
       "1.0    582\n",
       "0.0    575\n",
       "dtype: int64"
      ]
     },
     "execution_count": 16,
     "metadata": {},
     "output_type": "execute_result"
    }
   ],
   "source": [
    "X_train, X_test, y_train, y_test = train_test_split(feature_matrix,\n",
    "                                                    labels.genus.values,\n",
    "                                                    test_size=.3,\n",
    "                                                    random_state=84)\n",
    "\n",
    "pd.Series(y_train).value_counts()"
   ]
  },
  {
   "cell_type": "code",
   "execution_count": null,
   "metadata": {
    "colab": {
     "base_uri": "https://localhost:8080/"
    },
    "executionInfo": {
     "elapsed": 23696,
     "status": "ok",
     "timestamp": 1650746804963,
     "user": {
      "displayName": "Alex Putman",
      "userId": "18022789089794760610"
     },
     "user_tz": 240
    },
    "id": "IKH0uLDyAm07",
    "outputId": "e563caf0-1e6e-4199-c645-c4540d7969e0"
   },
   "outputs": [
    {
     "name": "stdout",
     "output_type": "stream",
     "text": [
      "Training features matrix shape is:  (1157, 50349)\n",
      "Training features matrix shape is:  (1157, 350)\n"
     ]
    }
   ],
   "source": [
    "print('Training features matrix shape is: ', X_train.shape)\n",
    "\n",
    "ss = StandardScaler()\n",
    "train_stand = ss.fit_transform(X_train)\n",
    "\n",
    "pca = PCA(n_components=350)\n",
    "\n",
    "X_train = pca.fit_transform(train_stand)\n",
    "\n",
    "print('Training features matrix shape is: ', X_train.shape)"
   ]
  },
  {
   "cell_type": "code",
   "execution_count": null,
   "metadata": {
    "colab": {
     "base_uri": "https://localhost:8080/"
    },
    "executionInfo": {
     "elapsed": 792,
     "status": "ok",
     "timestamp": 1650746805747,
     "user": {
      "displayName": "Alex Putman",
      "userId": "18022789089794760610"
     },
     "user_tz": 240
    },
    "id": "dv2ozvcsBcxj",
    "outputId": "af544c66-e6b6-4af0-b365-d3fb96cd2632"
   },
   "outputs": [
    {
     "name": "stdout",
     "output_type": "stream",
     "text": [
      "Test features matrix shape is:  (497, 50349)\n",
      "Test features matrix shape is:  (497, 350)\n"
     ]
    }
   ],
   "source": [
    "\n",
    "print('Test features matrix shape is: ', X_test.shape)\n",
    "\n",
    "test_stand = ss.transform(X_test)\n",
    "\n",
    "X_test = pca.transform(test_stand)\n",
    "print('Test features matrix shape is: ', X_test.shape)"
   ]
  },
  {
   "cell_type": "markdown",
   "metadata": {
    "id": "guANoD1kbS3U"
   },
   "source": [
    "#Implemented SVM models#\n"
   ]
  },
  {
   "cell_type": "code",
   "execution_count": null,
   "metadata": {
    "colab": {
     "base_uri": "https://localhost:8080/"
    },
    "executionInfo": {
     "elapsed": 141683,
     "status": "ok",
     "timestamp": 1650750729033,
     "user": {
      "displayName": "Alex Putman",
      "userId": "18022789089794760610"
     },
     "user_tz": 240
    },
    "id": "fPNdSb8mBoX0",
    "outputId": "3edf3908-679c-4bc1-873a-10e1515c2279"
   },
   "outputs": [
    {
     "data": {
      "text/plain": [
       "SVC(kernel='linear', probability=True, random_state=84)"
      ]
     },
     "execution_count": 19,
     "metadata": {},
     "output_type": "execute_result"
    }
   ],
   "source": [
    "#Linear\n",
    "svm = SVC(kernel='linear', probability=True, random_state=84)\n",
    "svm.fit(X_train, y_train)"
   ]
  },
  {
   "cell_type": "code",
   "execution_count": null,
   "metadata": {
    "id": "IqJzFfDfB-lq"
   },
   "outputs": [],
   "source": [
    "y_pred = svm.predict(X_test)"
   ]
  },
  {
   "cell_type": "code",
   "execution_count": null,
   "metadata": {
    "id": "cSIqkrzwnQZB"
   },
   "outputs": [],
   "source": [
    "accuracy = accuracy_score(y_test, y_pred)\n",
    "precision = precision_score(y_test, y_pred)\n",
    "recall = recall_score(y_test, y_pred)"
   ]
  },
  {
   "cell_type": "code",
   "execution_count": null,
   "metadata": {
    "id": "7NMjfEb3m5fG"
   },
   "outputs": [],
   "source": [
    "#Due to the computational intensity of the SVM, I was unable to itereate through each parameter in a loop\n",
    "#My initial plan was to loop through and append a list with  accuracy, but the session timed out each time. \n",
    "#Instead, I ran each parameter individually and recorded the accuracy in the list below. \n",
    "\n",
    "linearAcc = [0.6177062374245473, 0.6438631790744467, 0.613682092555332, 0.6116700201207244, 0.5935613682092555]"
   ]
  },
  {
   "cell_type": "code",
   "execution_count": null,
   "metadata": {
    "id": "rLcFcgh6nMKi"
   },
   "outputs": [],
   "source": [
    "\n",
    "linearAcc.append(accuracy)"
   ]
  },
  {
   "cell_type": "code",
   "execution_count": null,
   "metadata": {
    "colab": {
     "base_uri": "https://localhost:8080/"
    },
    "executionInfo": {
     "elapsed": 198,
     "status": "ok",
     "timestamp": 1650750769553,
     "user": {
      "displayName": "Alex Putman",
      "userId": "18022789089794760610"
     },
     "user_tz": 240
    },
    "id": "lxsEgGZPthys",
    "outputId": "a51c3eda-f23f-4706-e0d6-e707abdc6c47"
   },
   "outputs": [
    {
     "data": {
      "text/plain": [
       "[0.6177062374245473,\n",
       " 0.6438631790744467,\n",
       " 0.613682092555332,\n",
       " 0.6116700201207244,\n",
       " 0.5935613682092555]"
      ]
     },
     "execution_count": 23,
     "metadata": {},
     "output_type": "execute_result"
    }
   ],
   "source": [
    "linearAcc"
   ]
  },
  {
   "cell_type": "code",
   "execution_count": null,
   "metadata": {
    "colab": {
     "base_uri": "https://localhost:8080/",
     "height": 312
    },
    "executionInfo": {
     "elapsed": 280,
     "status": "ok",
     "timestamp": 1650751111491,
     "user": {
      "displayName": "Alex Putman",
      "userId": "18022789089794760610"
     },
     "user_tz": 240
    },
    "id": "ZrlnOAk8afGl",
    "outputId": "7a005b18-3361-4317-8293-2101983a3664"
   },
   "outputs": [
    {
     "data": {
      "text/plain": [
       "Text(0, 0.5, 'Accuracy Score')"
      ]
     },
     "execution_count": 29,
     "metadata": {},
     "output_type": "execute_result"
    },
    {
     "data": {
      "image/png": "[encoded data removed]",
      "text/plain": [
       "<Figure size 432x288 with 1 Axes>"
      ]
     },
     "metadata": {
      "needs_background": "light"
     },
     "output_type": "display_data"
    }
   ],
   "source": [
    "resDim = ['10x10', '8x8', '6x6', '4x4', '2x2']\n",
    "import matplotlib.pyplot as plt\n",
    "plt.plot(resDim, linearAcc)\n",
    "plt.title(\"Performance over Linear Kernal SVM\")\n",
    "plt.xlabel(\"Pixels per Cell\")\n",
    "plt.ylabel(\"Accuracy Score\")"
   ]
  },
  {
   "cell_type": "code",
   "execution_count": null,
   "metadata": {
    "colab": {
     "base_uri": "https://localhost:8080/"
    },
    "executionInfo": {
     "elapsed": 155,
     "status": "ok",
     "timestamp": 1650751869471,
     "user": {
      "displayName": "Alex Putman",
      "userId": "18022789089794760610"
     },
     "user_tz": 240
    },
    "id": "hQLYU96rcl-3",
    "outputId": "03cea3ac-e574-46aa-ec0f-7d95b30834a2"
   },
   "outputs": [
    {
     "data": {
      "text/plain": [
       "(7581,)"
      ]
     },
     "execution_count": 54,
     "metadata": {},
     "output_type": "execute_result"
    }
   ],
   "source": [
    "#RBF\n",
    "def create_features(img):\n",
    "    color_features = img.flatten()\n",
    "    gray_image = rgb2gray(img)\n",
    "    hog_features = hog(gray_image, block_norm='L2-Hys', pixels_per_cell=(14, 14))\n",
    "    flat_features = np.hstack([color_features, hog_features])\n",
    "    return flat_features\n",
    "\n",
    "bombus_features = create_features(bombus)\n",
    "bombus_features.shape "
   ]
  },
  {
   "cell_type": "code",
   "execution_count": null,
   "metadata": {
    "id": "GWwWWNe0cpQP"
   },
   "outputs": [],
   "source": [
    "def create_feature_matrix(label_dataframe):\n",
    "    features_list = []\n",
    "    \n",
    "    for img_id in label_dataframe.index:\n",
    "        img = get_image(img_id)\n",
    "        image_features = create_features(img)\n",
    "        features_list.append(image_features)\n",
    "        \n",
    "    feature_matrix = np.array(features_list)\n",
    "    return feature_matrix\n",
    "feature_matrix = create_feature_matrix(labels)"
   ]
  },
  {
   "cell_type": "code",
   "execution_count": null,
   "metadata": {
    "id": "8sA6EJggcpXA"
   },
   "outputs": [],
   "source": [
    "X_train, X_test, y_train, y_test = train_test_split(feature_matrix,\n",
    "                                                    labels.genus.values,\n",
    "                                                    test_size=.3,\n",
    "                                                    random_state=84)\n",
    "\n",
    "ss = StandardScaler()\n",
    "train_stand = ss.fit_transform(X_train)\n",
    "\n",
    "pca = PCA(n_components=350)\n",
    "X_train = pca.fit_transform(train_stand)\n",
    "\n",
    "test_stand = ss.transform(X_test)\n",
    "\n",
    "X_test = pca.transform(test_stand)"
   ]
  },
  {
   "cell_type": "code",
   "execution_count": null,
   "metadata": {
    "colab": {
     "base_uri": "https://localhost:8080/"
    },
    "executionInfo": {
     "elapsed": 1638,
     "status": "ok",
     "timestamp": 1650751882517,
     "user": {
      "displayName": "Alex Putman",
      "userId": "18022789089794760610"
     },
     "user_tz": 240
    },
    "id": "AvLIeod8cpc-",
    "outputId": "661dc7c4-a78c-413c-e5fa-5daa69138a98"
   },
   "outputs": [
    {
     "name": "stdout",
     "output_type": "stream",
     "text": [
      "0.6740442655935613\n"
     ]
    }
   ],
   "source": [
    "svm = SVC(kernel='rbf', probability=True, random_state=84)\n",
    "svm.fit(X_train, y_train)\n",
    "y_pred = svm.predict(X_test)\n",
    "accuracy = accuracy_score(y_test, y_pred)\n",
    "print(accuracy)"
   ]
  },
  {
   "cell_type": "code",
   "execution_count": null,
   "metadata": {
    "colab": {
     "base_uri": "https://localhost:8080/",
     "height": 312
    },
    "executionInfo": {
     "elapsed": 619,
     "status": "ok",
     "timestamp": 1650821591263,
     "user": {
      "displayName": "Alex Putman",
      "userId": "18022789089794760610"
     },
     "user_tz": 240
    },
    "id": "L5fOC7bycpgo",
    "outputId": "ec98db19-980e-4a00-f902-fdeb5fbb2263"
   },
   "outputs": [
    {
     "data": {
      "text/plain": [
       "Text(0, 0.5, 'Accuracy Score')"
      ]
     },
     "execution_count": 4,
     "metadata": {},
     "output_type": "execute_result"
    },
    {
     "data": {
      "image/png": "[encoded data removed]",
      "text/plain": [
       "<Figure size 432x288 with 1 Axes>"
      ]
     },
     "metadata": {
      "needs_background": "light"
     },
     "output_type": "display_data"
    }
   ],
   "source": [
    "rbfAcc = [0.6740442655935613, 0.6861167002012073, 0.6961770623742455, 0.6780684104627767, 0.6680080482897385, 0.6398390342052314]\n",
    "resDim = ['14x14', '12x12', '10x10', '8x8', '6x6', '4x4']\n",
    "import matplotlib.pyplot as plt\n",
    "plt.plot(resDim, rbfAcc)\n",
    "plt.title(\"Performance over RBF Kernal SVM\")\n",
    "plt.xlabel(\"Pixels per Cell\")\n",
    "plt.ylabel(\"Accuracy Score\")"
   ]
  }
 ],
 "metadata": {
  "colab": {
   "name": "Bee_SVM.ipynb",
   "provenance": [],
   "toc_visible": true
  },
  "kernelspec": {
   "display_name": "Python 3 (ipykernel)",
   "language": "python",
   "name": "python3"
  },
  "language_info": {
   "codemirror_mode": {
    "name": "ipython",
    "version": 3
   },
   "file_extension": ".py",
   "mimetype": "text/x-python",
   "name": "python",
   "nbconvert_exporter": "python",
   "pygments_lexer": "ipython3",
   "version": "3.9.7"
  }
 },
 "nbformat": 4,
 "nbformat_minor": 1
}
