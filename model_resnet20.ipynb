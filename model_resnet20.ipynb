{
 "cells": [
  {
   "cell_type": "code",
   "execution_count": 1,
   "id": "b915ce1a",
   "metadata": {},
   "outputs": [],
   "source": [
    "# !pip install h5py\n",
    "# !pip install keras\n",
    "# !pip install tensorflow \n",
    "\n",
    "import keras\n",
    "from keras.layers import Dense, Conv2D, BatchNormalization, Activation, Dropout\n",
    "from keras.layers import AveragePooling2D, Input, Flatten\n",
    "from keras.optimizers import adam_v2\n",
    "from keras.callbacks import ModelCheckpoint, LearningRateScheduler\n",
    "from keras import backend as K\n",
    "from keras.models import Model\n",
    "import numpy as np\n",
    "import tensorflow as tf\n",
    "from keras.utils import np_utils\n",
    "import os\n",
    "import matplotlib.pyplot as plt\n",
    "import pandas as pd\n",
    "import pickle\n",
    "from pathlib import Path\n",
    "from skimage import io\n",
    "import matplotlib.pyplot as plt\n",
    "%matplotlib inline\n",
    "from sklearn.preprocessing import StandardScaler\n",
    "from sklearn.model_selection import train_test_split\n",
    "from sklearn.metrics import classification_report\n",
    "\n",
    "# import Sequential from the keras models module\n",
    "from keras.models import Sequential\n",
    "\n",
    "# import Dense, Dropout, Flatten, Conv2D, MaxPooling2D from the keras layers module\n",
    "from keras.layers import Dense, Dropout, Flatten, Conv2D, MaxPooling2D"
   ]
  },
  {
   "cell_type": "code",
   "execution_count": 9,
   "id": "bff1bd9f",
   "metadata": {},
   "outputs": [
    {
     "name": "stdout",
     "output_type": "stream",
     "text": [
      "G:\\Shared drives\\ML PROJECT\\FP_Nehal_Anthony_Alex\n",
      " Volume in drive G is Google Drive\n",
      " Volume Serial Number is 1983-1116\n",
      "\n",
      " Directory of G:\\Shared drives\\ML PROJECT\\FP_Nehal_Anthony_Alex\n",
      "\n",
      "2022-04-26  03:33 PM    <DIR>          .\n",
      "2022-04-26  03:26 PM    <DIR>          ..\n",
      "2022-04-26  03:13 PM    <DIR>          EDA\n",
      "2022-04-26  04:07 PM    <DIR>          Original_data\n",
      "2022-04-26  04:04 PM    <DIR>          pseudo_resnet20\n",
      "2022-04-26  03:31 PM                 0 Readme.txt\n",
      "2022-04-26  04:16 PM    <DIR>          ResNet20\n",
      "2022-04-26  04:07 PM    <DIR>          Resnet50\n",
      "2022-04-26  04:09 PM    <DIR>          SVM\n",
      "2022-04-26  04:05 PM    <DIR>          VanillaCNN\n",
      "               1 File(s)              0 bytes\n",
      "               9 Dir(s)  18,072,154,112 bytes free\n"
     ]
    }
   ],
   "source": [
    "%cd ..\n",
    "%ls"
   ]
  },
  {
   "cell_type": "code",
   "execution_count": 2,
   "id": "940f85fe",
   "metadata": {},
   "outputs": [],
   "source": [
    "batch_size = 20 \n",
    "epochs = 100\n",
    "num_classes = 2\n",
    "depth = 20\n",
    "subtract_pixel_mean = True"
   ]
  },
  {
   "cell_type": "code",
   "execution_count": 3,
   "id": "f78f01aa",
   "metadata": {},
   "outputs": [],
   "source": [
    "model_type = 'ResNet%d' % (depth)"
   ]
  },
  {
   "cell_type": "code",
   "execution_count": 10,
   "id": "7eddfcd2",
   "metadata": {},
   "outputs": [
    {
     "name": "stdout",
     "output_type": "stream",
     "text": [
      "1.0    827\n",
      "0.0    827\n",
      "Name: genus, dtype: int64\n"
     ]
    }
   ],
   "source": [
    "# 2 Load image labels\n",
    "# load labels.csv from datasets folder using pandas\n",
    "labels = pd.read_csv('Original_data/dataset_alternate/labels_1.csv', index_col=0)\n",
    "\n",
    "# print value counts for genus\n",
    "print(labels.genus.value_counts())\n",
    "\n",
    "# assign the genus label values to y\n",
    "y = labels.genus.values"
   ]
  },
  {
   "cell_type": "code",
   "execution_count": 11,
   "id": "daf0b9b6",
   "metadata": {},
   "outputs": [
    {
     "name": "stdout",
     "output_type": "stream",
     "text": [
      "Image has shape: (50, 50, 3)\n",
      "RGB values for the top left pixel are: [127 108  95]\n"
     ]
    },
    {
     "data": {
      "image/png": "[encoded data removed]",
      "text/plain": [
       "<Figure size 432x288 with 1 Axes>"
      ]
     },
     "metadata": {
      "needs_background": "light"
     },
     "output_type": "display_data"
    }
   ],
   "source": [
    "# 3. Examine RGB values in an image matrix\n",
    "# load an image and explore\n",
    "example_image = io.imread('Original_data\\dataset_alternate\\dataset_1/{}.jpg'.format(labels.index[0])) \n",
    "\n",
    "# show image\n",
    "plt.imshow(example_image)\n",
    "\n",
    "# print shape\n",
    "print('Image has shape:', example_image.shape)\n",
    "\n",
    "# print color channel values for top left pixel\n",
    "print('RGB values for the top left pixel are:', example_image[0, 0, :])"
   ]
  },
  {
   "cell_type": "code",
   "execution_count": 12,
   "id": "fed19d4a",
   "metadata": {},
   "outputs": [
    {
     "name": "stdout",
     "output_type": "stream",
     "text": [
      "(1654, 50, 50, 3)\n"
     ]
    }
   ],
   "source": [
    "# 4. Importing the image data\n",
    "# create empty list\n",
    "image_list = []\n",
    "\n",
    "for i in labels.index:\n",
    "    # load image\n",
    "    img = io.imread('Original_data\\dataset_alternate\\dataset_1/{}.jpg'.format(i)).astype(np.float64)\n",
    "        \n",
    "    # append to list of all images\n",
    "    image_list.append(img)\n",
    "    \n",
    "# convert image list to single array\n",
    "X = np.array(image_list)\n",
    "\n",
    "print(X.shape)"
   ]
  },
  {
   "cell_type": "code",
   "execution_count": 85,
   "id": "6dc8c9ea",
   "metadata": {},
   "outputs": [
    {
     "name": "stdout",
     "output_type": "stream",
     "text": [
      "x_train shape: (1157, 50, 50, 3)\n",
      "1157 train samples\n",
      "497 test samples\n"
     ]
    }
   ],
   "source": [
    "# 5 SPLITTING\n",
    "\n",
    "# split remaining data into train and test sets\n",
    "x_train, x_test, y_train, y_test = train_test_split(X, \n",
    "                                                    y, \n",
    "                                                    test_size=0.3, \n",
    "                                                    random_state=52)\n",
    "\n",
    "# examine number of samples in train, test, and validation sets\n",
    "print('x_train shape:', x_train.shape)\n",
    "print(x_train.shape[0], 'train samples')\n",
    "print(x_test.shape[0], 'test samples')"
   ]
  },
  {
   "cell_type": "code",
   "execution_count": 87,
   "id": "ef510869",
   "metadata": {},
   "outputs": [
    {
     "data": {
      "text/plain": [
       "(50, 50, 3)"
      ]
     },
     "execution_count": 87,
     "metadata": {},
     "output_type": "execute_result"
    }
   ],
   "source": [
    "input_shape = x_train.shape[1:]\n",
    "input_shape"
   ]
  },
  {
   "cell_type": "code",
   "execution_count": 88,
   "id": "d9a8f822",
   "metadata": {},
   "outputs": [],
   "source": [
    "x_train = x_train.astype('float32') / 255\n",
    "x_test = x_test.astype('float32') / 255"
   ]
  },
  {
   "cell_type": "code",
   "execution_count": 89,
   "id": "7c9d56f7",
   "metadata": {},
   "outputs": [],
   "source": [
    "if subtract_pixel_mean:\n",
    "  x_train_mean = np.mean(x_train, axis=0)\n",
    "  x_train -= x_train_mean\n",
    "  x_test -= x_train_mean"
   ]
  },
  {
   "cell_type": "code",
   "execution_count": 90,
   "id": "bd7a89e1",
   "metadata": {},
   "outputs": [
    {
     "name": "stdout",
     "output_type": "stream",
     "text": [
      "x_train shape: (1157, 50, 50, 3)\n",
      "y_train shape: (1157,)\n",
      "1157 train samples\n",
      "497 test samples\n"
     ]
    }
   ],
   "source": [
    "print('x_train shape:', x_train.shape)\n",
    "print('y_train shape:', y_train.shape)\n",
    "print(x_train.shape[0], 'train samples')\n",
    "print(x_test.shape[0], 'test samples')"
   ]
  },
  {
   "cell_type": "code",
   "execution_count": 91,
   "id": "2777fd62",
   "metadata": {},
   "outputs": [],
   "source": [
    "y_train = keras.utils.np_utils.to_categorical(y_train, num_classes)\n",
    "y_test = keras.utils.np_utils.to_categorical(y_test, num_classes)"
   ]
  },
  {
   "cell_type": "code",
   "execution_count": 92,
   "id": "16df3511",
   "metadata": {},
   "outputs": [],
   "source": [
    "def lr_schedule(epoch):\n",
    "  lr = 1e-3\n",
    "  if epoch > 180:\n",
    "      lr *= 0.5e-3\n",
    "  elif epoch > 160:\n",
    "      lr *= 1e-3\n",
    "  elif epoch > 120:\n",
    "      lr *= 1e-2\n",
    "  elif epoch > 80:\n",
    "      lr *= 1e-1\n",
    "  print('Learning rate: ', lr)\n",
    "  return lr"
   ]
  },
  {
   "cell_type": "code",
   "execution_count": 93,
   "id": "3c71881a",
   "metadata": {},
   "outputs": [],
   "source": [
    "def resnet_layer(inputs, num_filters=16, kernel_size=3, strides=1, activation='relu', batch_normalization=True, conv_first=True):\n",
    "  \n",
    "  conv = Conv2D(num_filters, kernel_size=kernel_size, strides=strides, padding='same')\n",
    "\n",
    "  x = inputs\n",
    "  if conv_first:\n",
    "      x = conv(x)\n",
    "      if batch_normalization:\n",
    "          x = BatchNormalization()(x)\n",
    "      if activation is not None:\n",
    "          x = Activation(activation)(x)\n",
    "  else:\n",
    "      if batch_normalization:\n",
    "          x = BatchNormalization()(x)\n",
    "      if activation is not None:\n",
    "          x = Activation(activation)(x)\n",
    "      x = conv(x)\n",
    "  return x\n"
   ]
  },
  {
   "cell_type": "code",
   "execution_count": 94,
   "id": "c1d08685",
   "metadata": {},
   "outputs": [],
   "source": [
    "def resnet_20(input_shape, depth, num_classes=2):\n",
    "    \n",
    "    if (depth - 2) % 6 != 0:\n",
    "        raise ValueError('depth should be 6n+2 (eg 20, 32, 44 in [a])')\n",
    "    # Start model definition.\n",
    "    num_filters = 16\n",
    "    num_res_blocks = int((depth - 2) / 6)\n",
    "\n",
    "    inputs = Input(shape=input_shape)\n",
    "    x = resnet_layer(inputs=inputs)\n",
    "    # Instantiate the stack of residual units\n",
    "    for stack in range(3):\n",
    "        for res_block in range(num_res_blocks):\n",
    "            strides = 1\n",
    "            if stack > 0 and res_block == 0:  # first layer but not first stack\n",
    "                strides = 2  # downsample\n",
    "            y = resnet_layer(inputs=x,num_filters=num_filters,strides=strides)\n",
    "            y = resnet_layer(inputs=y,num_filters=num_filters,activation=None)\n",
    "            if stack > 0 and res_block == 0:  # first layer but not first stack\n",
    "                # linear projection residual shortcut connection to match\n",
    "                # changed dims\n",
    "                x = resnet_layer(inputs=x,num_filters=num_filters,kernel_size=1,strides=strides,activation=None,batch_normalization=False)\n",
    "            x = keras.layers.add([x, y])\n",
    "            x = Activation('relu')(x)\n",
    "            x = Dropout(rate=0.25)(x)\n",
    "        num_filters *= 2\n",
    "\n",
    "    # Add classifier on top.\n",
    "    # v1 does not use BN after last shortcut connection-ReLU\n",
    "    x = AveragePooling2D(pool_size=8)(x)\n",
    "    y = Flatten()(x)\n",
    "    outputs = Dense(num_classes, activation='softmax')(y)\n",
    "\n",
    "    # Instantiate model.\n",
    "    model = Model(inputs=inputs, outputs=outputs)\n",
    "    return model\n"
   ]
  },
  {
   "cell_type": "code",
   "execution_count": 95,
   "id": "be3a4180",
   "metadata": {},
   "outputs": [],
   "source": [
    "model = resnet_20(input_shape=input_shape, depth=depth)\n"
   ]
  },
  {
   "cell_type": "code",
   "execution_count": 96,
   "id": "bcd5df32",
   "metadata": {},
   "outputs": [
    {
     "name": "stdout",
     "output_type": "stream",
     "text": [
      "Learning rate:  0.001\n"
     ]
    }
   ],
   "source": [
    "model.compile(loss='binary_crossentropy',optimizer=adam_v2.Adam(lr=1e-3),metrics=['accuracy'])"
   ]
  },
  {
   "cell_type": "code",
   "execution_count": 97,
   "id": "c3c4254f",
   "metadata": {},
   "outputs": [
    {
     "name": "stdout",
     "output_type": "stream",
     "text": [
      "Model: \"model_2\"\n",
      "__________________________________________________________________________________________________\n",
      " Layer (type)                   Output Shape         Param #     Connected to                     \n",
      "==================================================================================================\n",
      " input_3 (InputLayer)           [(None, 50, 50, 3)]  0           []                               \n",
      "                                                                                                  \n",
      " conv2d_42 (Conv2D)             (None, 50, 50, 16)   448         ['input_3[0][0]']                \n",
      "                                                                                                  \n",
      " batch_normalization_38 (BatchN  (None, 50, 50, 16)  64          ['conv2d_42[0][0]']              \n",
      " ormalization)                                                                                    \n",
      "                                                                                                  \n",
      " activation_38 (Activation)     (None, 50, 50, 16)   0           ['batch_normalization_38[0][0]'] \n",
      "                                                                                                  \n",
      " conv2d_43 (Conv2D)             (None, 50, 50, 16)   2320        ['activation_38[0][0]']          \n",
      "                                                                                                  \n",
      " batch_normalization_39 (BatchN  (None, 50, 50, 16)  64          ['conv2d_43[0][0]']              \n",
      " ormalization)                                                                                    \n",
      "                                                                                                  \n",
      " activation_39 (Activation)     (None, 50, 50, 16)   0           ['batch_normalization_39[0][0]'] \n",
      "                                                                                                  \n",
      " conv2d_44 (Conv2D)             (None, 50, 50, 16)   2320        ['activation_39[0][0]']          \n",
      "                                                                                                  \n",
      " batch_normalization_40 (BatchN  (None, 50, 50, 16)  64          ['conv2d_44[0][0]']              \n",
      " ormalization)                                                                                    \n",
      "                                                                                                  \n",
      " add_18 (Add)                   (None, 50, 50, 16)   0           ['activation_38[0][0]',          \n",
      "                                                                  'batch_normalization_40[0][0]'] \n",
      "                                                                                                  \n",
      " activation_40 (Activation)     (None, 50, 50, 16)   0           ['add_18[0][0]']                 \n",
      "                                                                                                  \n",
      " dropout_18 (Dropout)           (None, 50, 50, 16)   0           ['activation_40[0][0]']          \n",
      "                                                                                                  \n",
      " conv2d_45 (Conv2D)             (None, 50, 50, 16)   2320        ['dropout_18[0][0]']             \n",
      "                                                                                                  \n",
      " batch_normalization_41 (BatchN  (None, 50, 50, 16)  64          ['conv2d_45[0][0]']              \n",
      " ormalization)                                                                                    \n",
      "                                                                                                  \n",
      " activation_41 (Activation)     (None, 50, 50, 16)   0           ['batch_normalization_41[0][0]'] \n",
      "                                                                                                  \n",
      " conv2d_46 (Conv2D)             (None, 50, 50, 16)   2320        ['activation_41[0][0]']          \n",
      "                                                                                                  \n",
      " batch_normalization_42 (BatchN  (None, 50, 50, 16)  64          ['conv2d_46[0][0]']              \n",
      " ormalization)                                                                                    \n",
      "                                                                                                  \n",
      " add_19 (Add)                   (None, 50, 50, 16)   0           ['dropout_18[0][0]',             \n",
      "                                                                  'batch_normalization_42[0][0]'] \n",
      "                                                                                                  \n",
      " activation_42 (Activation)     (None, 50, 50, 16)   0           ['add_19[0][0]']                 \n",
      "                                                                                                  \n",
      " dropout_19 (Dropout)           (None, 50, 50, 16)   0           ['activation_42[0][0]']          \n",
      "                                                                                                  \n",
      " conv2d_47 (Conv2D)             (None, 50, 50, 16)   2320        ['dropout_19[0][0]']             \n",
      "                                                                                                  \n",
      " batch_normalization_43 (BatchN  (None, 50, 50, 16)  64          ['conv2d_47[0][0]']              \n",
      " ormalization)                                                                                    \n",
      "                                                                                                  \n",
      " activation_43 (Activation)     (None, 50, 50, 16)   0           ['batch_normalization_43[0][0]'] \n",
      "                                                                                                  \n",
      " conv2d_48 (Conv2D)             (None, 50, 50, 16)   2320        ['activation_43[0][0]']          \n",
      "                                                                                                  \n",
      " batch_normalization_44 (BatchN  (None, 50, 50, 16)  64          ['conv2d_48[0][0]']              \n",
      " ormalization)                                                                                    \n",
      "                                                                                                  \n",
      " add_20 (Add)                   (None, 50, 50, 16)   0           ['dropout_19[0][0]',             \n",
      "                                                                  'batch_normalization_44[0][0]'] \n",
      "                                                                                                  \n",
      " activation_44 (Activation)     (None, 50, 50, 16)   0           ['add_20[0][0]']                 \n",
      "                                                                                                  \n",
      " dropout_20 (Dropout)           (None, 50, 50, 16)   0           ['activation_44[0][0]']          \n",
      "                                                                                                  \n",
      " conv2d_49 (Conv2D)             (None, 25, 25, 32)   4640        ['dropout_20[0][0]']             \n",
      "                                                                                                  \n",
      " batch_normalization_45 (BatchN  (None, 25, 25, 32)  128         ['conv2d_49[0][0]']              \n",
      " ormalization)                                                                                    \n",
      "                                                                                                  \n",
      " activation_45 (Activation)     (None, 25, 25, 32)   0           ['batch_normalization_45[0][0]'] \n",
      "                                                                                                  \n",
      " conv2d_50 (Conv2D)             (None, 25, 25, 32)   9248        ['activation_45[0][0]']          \n",
      "                                                                                                  \n",
      " conv2d_51 (Conv2D)             (None, 25, 25, 32)   544         ['dropout_20[0][0]']             \n",
      "                                                                                                  \n",
      " batch_normalization_46 (BatchN  (None, 25, 25, 32)  128         ['conv2d_50[0][0]']              \n",
      " ormalization)                                                                                    \n",
      "                                                                                                  \n"
     ]
    },
    {
     "name": "stdout",
     "output_type": "stream",
     "text": [
      " add_21 (Add)                   (None, 25, 25, 32)   0           ['conv2d_51[0][0]',              \n",
      "                                                                  'batch_normalization_46[0][0]'] \n",
      "                                                                                                  \n",
      " activation_46 (Activation)     (None, 25, 25, 32)   0           ['add_21[0][0]']                 \n",
      "                                                                                                  \n",
      " dropout_21 (Dropout)           (None, 25, 25, 32)   0           ['activation_46[0][0]']          \n",
      "                                                                                                  \n",
      " conv2d_52 (Conv2D)             (None, 25, 25, 32)   9248        ['dropout_21[0][0]']             \n",
      "                                                                                                  \n",
      " batch_normalization_47 (BatchN  (None, 25, 25, 32)  128         ['conv2d_52[0][0]']              \n",
      " ormalization)                                                                                    \n",
      "                                                                                                  \n",
      " activation_47 (Activation)     (None, 25, 25, 32)   0           ['batch_normalization_47[0][0]'] \n",
      "                                                                                                  \n",
      " conv2d_53 (Conv2D)             (None, 25, 25, 32)   9248        ['activation_47[0][0]']          \n",
      "                                                                                                  \n",
      " batch_normalization_48 (BatchN  (None, 25, 25, 32)  128         ['conv2d_53[0][0]']              \n",
      " ormalization)                                                                                    \n",
      "                                                                                                  \n",
      " add_22 (Add)                   (None, 25, 25, 32)   0           ['dropout_21[0][0]',             \n",
      "                                                                  'batch_normalization_48[0][0]'] \n",
      "                                                                                                  \n",
      " activation_48 (Activation)     (None, 25, 25, 32)   0           ['add_22[0][0]']                 \n",
      "                                                                                                  \n",
      " dropout_22 (Dropout)           (None, 25, 25, 32)   0           ['activation_48[0][0]']          \n",
      "                                                                                                  \n",
      " conv2d_54 (Conv2D)             (None, 25, 25, 32)   9248        ['dropout_22[0][0]']             \n",
      "                                                                                                  \n",
      " batch_normalization_49 (BatchN  (None, 25, 25, 32)  128         ['conv2d_54[0][0]']              \n",
      " ormalization)                                                                                    \n",
      "                                                                                                  \n",
      " activation_49 (Activation)     (None, 25, 25, 32)   0           ['batch_normalization_49[0][0]'] \n",
      "                                                                                                  \n",
      " conv2d_55 (Conv2D)             (None, 25, 25, 32)   9248        ['activation_49[0][0]']          \n",
      "                                                                                                  \n",
      " batch_normalization_50 (BatchN  (None, 25, 25, 32)  128         ['conv2d_55[0][0]']              \n",
      " ormalization)                                                                                    \n",
      "                                                                                                  \n",
      " add_23 (Add)                   (None, 25, 25, 32)   0           ['dropout_22[0][0]',             \n",
      "                                                                  'batch_normalization_50[0][0]'] \n",
      "                                                                                                  \n",
      " activation_50 (Activation)     (None, 25, 25, 32)   0           ['add_23[0][0]']                 \n",
      "                                                                                                  \n",
      " dropout_23 (Dropout)           (None, 25, 25, 32)   0           ['activation_50[0][0]']          \n",
      "                                                                                                  \n",
      " conv2d_56 (Conv2D)             (None, 13, 13, 64)   18496       ['dropout_23[0][0]']             \n",
      "                                                                                                  \n",
      " batch_normalization_51 (BatchN  (None, 13, 13, 64)  256         ['conv2d_56[0][0]']              \n",
      " ormalization)                                                                                    \n",
      "                                                                                                  \n",
      " activation_51 (Activation)     (None, 13, 13, 64)   0           ['batch_normalization_51[0][0]'] \n",
      "                                                                                                  \n",
      " conv2d_57 (Conv2D)             (None, 13, 13, 64)   36928       ['activation_51[0][0]']          \n",
      "                                                                                                  \n",
      " conv2d_58 (Conv2D)             (None, 13, 13, 64)   2112        ['dropout_23[0][0]']             \n",
      "                                                                                                  \n",
      " batch_normalization_52 (BatchN  (None, 13, 13, 64)  256         ['conv2d_57[0][0]']              \n",
      " ormalization)                                                                                    \n",
      "                                                                                                  \n",
      " add_24 (Add)                   (None, 13, 13, 64)   0           ['conv2d_58[0][0]',              \n",
      "                                                                  'batch_normalization_52[0][0]'] \n",
      "                                                                                                  \n",
      " activation_52 (Activation)     (None, 13, 13, 64)   0           ['add_24[0][0]']                 \n",
      "                                                                                                  \n",
      " dropout_24 (Dropout)           (None, 13, 13, 64)   0           ['activation_52[0][0]']          \n",
      "                                                                                                  \n",
      " conv2d_59 (Conv2D)             (None, 13, 13, 64)   36928       ['dropout_24[0][0]']             \n",
      "                                                                                                  \n",
      " batch_normalization_53 (BatchN  (None, 13, 13, 64)  256         ['conv2d_59[0][0]']              \n",
      " ormalization)                                                                                    \n",
      "                                                                                                  \n",
      " activation_53 (Activation)     (None, 13, 13, 64)   0           ['batch_normalization_53[0][0]'] \n",
      "                                                                                                  \n",
      " conv2d_60 (Conv2D)             (None, 13, 13, 64)   36928       ['activation_53[0][0]']          \n",
      "                                                                                                  \n",
      " batch_normalization_54 (BatchN  (None, 13, 13, 64)  256         ['conv2d_60[0][0]']              \n",
      " ormalization)                                                                                    \n",
      "                                                                                                  \n",
      " add_25 (Add)                   (None, 13, 13, 64)   0           ['dropout_24[0][0]',             \n",
      "                                                                  'batch_normalization_54[0][0]'] \n",
      "                                                                                                  \n",
      " activation_54 (Activation)     (None, 13, 13, 64)   0           ['add_25[0][0]']                 \n",
      "                                                                                                  \n"
     ]
    },
    {
     "name": "stdout",
     "output_type": "stream",
     "text": [
      " dropout_25 (Dropout)           (None, 13, 13, 64)   0           ['activation_54[0][0]']          \n",
      "                                                                                                  \n",
      " conv2d_61 (Conv2D)             (None, 13, 13, 64)   36928       ['dropout_25[0][0]']             \n",
      "                                                                                                  \n",
      " batch_normalization_55 (BatchN  (None, 13, 13, 64)  256         ['conv2d_61[0][0]']              \n",
      " ormalization)                                                                                    \n",
      "                                                                                                  \n",
      " activation_55 (Activation)     (None, 13, 13, 64)   0           ['batch_normalization_55[0][0]'] \n",
      "                                                                                                  \n",
      " conv2d_62 (Conv2D)             (None, 13, 13, 64)   36928       ['activation_55[0][0]']          \n",
      "                                                                                                  \n",
      " batch_normalization_56 (BatchN  (None, 13, 13, 64)  256         ['conv2d_62[0][0]']              \n",
      " ormalization)                                                                                    \n",
      "                                                                                                  \n",
      " add_26 (Add)                   (None, 13, 13, 64)   0           ['dropout_25[0][0]',             \n",
      "                                                                  'batch_normalization_56[0][0]'] \n",
      "                                                                                                  \n",
      " activation_56 (Activation)     (None, 13, 13, 64)   0           ['add_26[0][0]']                 \n",
      "                                                                                                  \n",
      " dropout_26 (Dropout)           (None, 13, 13, 64)   0           ['activation_56[0][0]']          \n",
      "                                                                                                  \n",
      " average_pooling2d_2 (AveragePo  (None, 1, 1, 64)    0           ['dropout_26[0][0]']             \n",
      " oling2D)                                                                                         \n",
      "                                                                                                  \n",
      " flatten_2 (Flatten)            (None, 64)           0           ['average_pooling2d_2[0][0]']    \n",
      "                                                                                                  \n",
      " dense_2 (Dense)                (None, 2)            130         ['flatten_2[0][0]']              \n",
      "                                                                                                  \n",
      "==================================================================================================\n",
      "Total params: 273,922\n",
      "Trainable params: 272,546\n",
      "Non-trainable params: 1,376\n",
      "__________________________________________________________________________________________________\n",
      "ResNet20\n"
     ]
    }
   ],
   "source": [
    "model.summary()\n",
    "print(model_type)"
   ]
  },
  {
   "cell_type": "code",
   "execution_count": 98,
   "id": "237e53fb",
   "metadata": {},
   "outputs": [],
   "source": [
    "save_dir = os.path.join(os.getcwd(), 'saved_models_with_dropout')\n",
    "model_name = 'cifar10_%s_model.{epoch:03d}.h5' % model_type\n",
    "if not os.path.isdir(save_dir):\n",
    "    os.makedirs(save_dir)\n",
    "filepath = os.path.join(save_dir, model_name)"
   ]
  },
  {
   "cell_type": "code",
   "execution_count": 99,
   "id": "c2e9ddfe",
   "metadata": {},
   "outputs": [],
   "source": [
    "checkpoint = ModelCheckpoint(filepath=filepath,monitor='val_acc',verbose=1,save_best_only=True)"
   ]
  },
  {
   "cell_type": "code",
   "execution_count": 100,
   "id": "114fa9af",
   "metadata": {},
   "outputs": [],
   "source": [
    "lr_scheduler = LearningRateScheduler(lr_schedule)"
   ]
  },
  {
   "cell_type": "code",
   "execution_count": 101,
   "id": "f9dc127d",
   "metadata": {},
   "outputs": [],
   "source": [
    "callbacks = [checkpoint, lr_scheduler]"
   ]
  },
  {
   "cell_type": "code",
   "execution_count": 76,
   "id": "bb400c8e",
   "metadata": {},
   "outputs": [],
   "source": [
    "tf.config.run_functions_eagerly(True)"
   ]
  },
  {
   "cell_type": "code",
   "execution_count": 103,
   "id": "a41db1db",
   "metadata": {
    "scrolled": false
   },
   "outputs": [
    {
     "name": "stdout",
     "output_type": "stream",
     "text": [
      "Learning rate:  0.001\n",
      "Epoch 1/100\n",
      "232/232 [==============================] - ETA: 0s - loss: 0.7296 - accuracy: 0.5324WARNING:tensorflow:Can save best model only with val_acc available, skipping.\n",
      "232/232 [==============================] - 61s 261ms/step - loss: 0.7296 - accuracy: 0.5324 - val_loss: 0.7549 - val_accuracy: 0.5171 - lr: 0.0010\n",
      "Learning rate:  0.001\n",
      "Epoch 2/100\n",
      "232/232 [==============================] - ETA: 0s - loss: 0.6680 - accuracy: 0.6059WARNING:tensorflow:Can save best model only with val_acc available, skipping.\n",
      "232/232 [==============================] - 60s 257ms/step - loss: 0.6680 - accuracy: 0.6059 - val_loss: 0.6280 - val_accuracy: 0.6499 - lr: 0.0010\n",
      "Learning rate:  0.001\n",
      "Epoch 3/100\n",
      "232/232 [==============================] - ETA: 0s - loss: 0.6150 - accuracy: 0.6724WARNING:tensorflow:Can save best model only with val_acc available, skipping.\n",
      "232/232 [==============================] - 60s 257ms/step - loss: 0.6150 - accuracy: 0.6724 - val_loss: 0.7065 - val_accuracy: 0.6016 - lr: 0.0010\n",
      "Learning rate:  0.001\n",
      "Epoch 4/100\n",
      "232/232 [==============================] - ETA: 0s - loss: 0.5962 - accuracy: 0.6845WARNING:tensorflow:Can save best model only with val_acc available, skipping.\n",
      "232/232 [==============================] - 59s 256ms/step - loss: 0.5962 - accuracy: 0.6845 - val_loss: 0.5846 - val_accuracy: 0.6801 - lr: 0.0010\n",
      "Learning rate:  0.001\n",
      "Epoch 5/100\n",
      "232/232 [==============================] - ETA: 0s - loss: 0.5607 - accuracy: 0.7252WARNING:tensorflow:Can save best model only with val_acc available, skipping.\n",
      "232/232 [==============================] - 61s 261ms/step - loss: 0.5607 - accuracy: 0.7252 - val_loss: 0.7053 - val_accuracy: 0.6922 - lr: 0.0010\n",
      "Learning rate:  0.001\n",
      "Epoch 6/100\n",
      "232/232 [==============================] - ETA: 0s - loss: 0.5318 - accuracy: 0.7442WARNING:tensorflow:Can save best model only with val_acc available, skipping.\n",
      "232/232 [==============================] - 59s 256ms/step - loss: 0.5318 - accuracy: 0.7442 - val_loss: 0.4798 - val_accuracy: 0.7746 - lr: 0.0010\n",
      "Learning rate:  0.001\n",
      "Epoch 7/100\n",
      "232/232 [==============================] - ETA: 0s - loss: 0.5221 - accuracy: 0.7373WARNING:tensorflow:Can save best model only with val_acc available, skipping.\n",
      "232/232 [==============================] - 60s 258ms/step - loss: 0.5221 - accuracy: 0.7373 - val_loss: 0.5333 - val_accuracy: 0.7384 - lr: 0.0010\n",
      "Learning rate:  0.001\n",
      "Epoch 8/100\n",
      "232/232 [==============================] - ETA: 0s - loss: 0.4957 - accuracy: 0.7623WARNING:tensorflow:Can save best model only with val_acc available, skipping.\n",
      "232/232 [==============================] - 61s 262ms/step - loss: 0.4957 - accuracy: 0.7623 - val_loss: 0.5855 - val_accuracy: 0.6922 - lr: 0.0010\n",
      "Learning rate:  0.001\n",
      "Epoch 9/100\n",
      "232/232 [==============================] - ETA: 0s - loss: 0.5010 - accuracy: 0.7770WARNING:tensorflow:Can save best model only with val_acc available, skipping.\n",
      "232/232 [==============================] - 61s 263ms/step - loss: 0.5010 - accuracy: 0.7770 - val_loss: 0.5017 - val_accuracy: 0.7666 - lr: 0.0010\n",
      "Learning rate:  0.001\n",
      "Epoch 10/100\n",
      "232/232 [==============================] - ETA: 0s - loss: 0.4912 - accuracy: 0.7632WARNING:tensorflow:Can save best model only with val_acc available, skipping.\n",
      "232/232 [==============================] - 62s 265ms/step - loss: 0.4912 - accuracy: 0.7632 - val_loss: 0.5745 - val_accuracy: 0.7022 - lr: 0.0010\n",
      "Learning rate:  0.001\n",
      "Epoch 11/100\n",
      "232/232 [==============================] - ETA: 0s - loss: 0.5000 - accuracy: 0.7563WARNING:tensorflow:Can save best model only with val_acc available, skipping.\n",
      "232/232 [==============================] - 60s 259ms/step - loss: 0.5000 - accuracy: 0.7563 - val_loss: 1.4309 - val_accuracy: 0.6781 - lr: 0.0010\n",
      "Learning rate:  0.001\n",
      "Epoch 12/100\n",
      "232/232 [==============================] - ETA: 0s - loss: 0.4660 - accuracy: 0.7839WARNING:tensorflow:Can save best model only with val_acc available, skipping.\n",
      "232/232 [==============================] - 60s 257ms/step - loss: 0.4660 - accuracy: 0.7839 - val_loss: 0.6148 - val_accuracy: 0.6962 - lr: 0.0010\n",
      "Learning rate:  0.001\n",
      "Epoch 13/100\n",
      "232/232 [==============================] - ETA: 0s - loss: 0.4693 - accuracy: 0.7822WARNING:tensorflow:Can save best model only with val_acc available, skipping.\n",
      "232/232 [==============================] - 59s 255ms/step - loss: 0.4693 - accuracy: 0.7822 - val_loss: 0.5106 - val_accuracy: 0.7606 - lr: 0.0010\n",
      "Learning rate:  0.001\n",
      "Epoch 14/100\n",
      "232/232 [==============================] - ETA: 0s - loss: 0.4620 - accuracy: 0.7831WARNING:tensorflow:Can save best model only with val_acc available, skipping.\n",
      "232/232 [==============================] - 58s 252ms/step - loss: 0.4620 - accuracy: 0.7831 - val_loss: 0.8899 - val_accuracy: 0.5714 - lr: 0.0010\n",
      "Learning rate:  0.001\n",
      "Epoch 15/100\n",
      "232/232 [==============================] - ETA: 0s - loss: 0.4532 - accuracy: 0.7926WARNING:tensorflow:Can save best model only with val_acc available, skipping.\n",
      "232/232 [==============================] - 59s 256ms/step - loss: 0.4532 - accuracy: 0.7926 - val_loss: 0.5001 - val_accuracy: 0.7807 - lr: 0.0010\n",
      "Learning rate:  0.001\n",
      "Epoch 16/100\n",
      "232/232 [==============================] - ETA: 0s - loss: 0.4552 - accuracy: 0.7960WARNING:tensorflow:Can save best model only with val_acc available, skipping.\n",
      "232/232 [==============================] - 59s 256ms/step - loss: 0.4552 - accuracy: 0.7960 - val_loss: 0.5851 - val_accuracy: 0.7042 - lr: 0.0010\n",
      "Learning rate:  0.001\n",
      "Epoch 17/100\n",
      "232/232 [==============================] - ETA: 0s - loss: 0.4315 - accuracy: 0.8021WARNING:tensorflow:Can save best model only with val_acc available, skipping.\n",
      "232/232 [==============================] - 59s 256ms/step - loss: 0.4315 - accuracy: 0.8021 - val_loss: 0.8108 - val_accuracy: 0.5211 - lr: 0.0010\n",
      "Learning rate:  0.001\n",
      "Epoch 18/100\n",
      "232/232 [==============================] - ETA: 0s - loss: 0.4350 - accuracy: 0.8047WARNING:tensorflow:Can save best model only with val_acc available, skipping.\n",
      "232/232 [==============================] - 59s 255ms/step - loss: 0.4350 - accuracy: 0.8047 - val_loss: 0.7195 - val_accuracy: 0.6439 - lr: 0.0010\n",
      "Learning rate:  0.001\n",
      "Epoch 19/100\n",
      "232/232 [==============================] - ETA: 0s - loss: 0.4288 - accuracy: 0.8099WARNING:tensorflow:Can save best model only with val_acc available, skipping.\n",
      "232/232 [==============================] - 59s 255ms/step - loss: 0.4288 - accuracy: 0.8099 - val_loss: 0.5868 - val_accuracy: 0.7545 - lr: 0.0010\n",
      "Learning rate:  0.001\n",
      "Epoch 20/100\n",
      "232/232 [==============================] - ETA: 0s - loss: 0.4251 - accuracy: 0.8029WARNING:tensorflow:Can save best model only with val_acc available, skipping.\n",
      "232/232 [==============================] - 59s 256ms/step - loss: 0.4251 - accuracy: 0.8029 - val_loss: 0.4086 - val_accuracy: 0.8068 - lr: 0.0010\n",
      "Learning rate:  0.001\n",
      "Epoch 21/100\n",
      "232/232 [==============================] - ETA: 0s - loss: 0.4027 - accuracy: 0.8194WARNING:tensorflow:Can save best model only with val_acc available, skipping.\n",
      "232/232 [==============================] - 60s 259ms/step - loss: 0.4027 - accuracy: 0.8194 - val_loss: 0.5289 - val_accuracy: 0.7827 - lr: 0.0010\n",
      "Learning rate:  0.001\n",
      "Epoch 22/100\n",
      "232/232 [==============================] - ETA: 0s - loss: 0.4186 - accuracy: 0.8142WARNING:tensorflow:Can save best model only with val_acc available, skipping.\n",
      "232/232 [==============================] - 59s 255ms/step - loss: 0.4186 - accuracy: 0.8142 - val_loss: 0.4372 - val_accuracy: 0.8048 - lr: 0.0010\n",
      "Learning rate:  0.001\n",
      "Epoch 23/100\n",
      "232/232 [==============================] - ETA: 0s - loss: 0.3895 - accuracy: 0.8384WARNING:tensorflow:Can save best model only with val_acc available, skipping.\n",
      "232/232 [==============================] - 59s 256ms/step - loss: 0.3895 - accuracy: 0.8384 - val_loss: 0.5580 - val_accuracy: 0.7425 - lr: 0.0010\n",
      "Learning rate:  0.001\n",
      "Epoch 24/100\n",
      "232/232 [==============================] - ETA: 0s - loss: 0.4033 - accuracy: 0.8271WARNING:tensorflow:Can save best model only with val_acc available, skipping.\n",
      "232/232 [==============================] - 59s 256ms/step - loss: 0.4033 - accuracy: 0.8271 - val_loss: 0.4148 - val_accuracy: 0.7928 - lr: 0.0010\n"
     ]
    },
    {
     "name": "stdout",
     "output_type": "stream",
     "text": [
      "Learning rate:  0.001\n",
      "Epoch 25/100\n",
      "232/232 [==============================] - ETA: 0s - loss: 0.3901 - accuracy: 0.8220WARNING:tensorflow:Can save best model only with val_acc available, skipping.\n",
      "232/232 [==============================] - 61s 263ms/step - loss: 0.3901 - accuracy: 0.8220 - val_loss: 0.8379 - val_accuracy: 0.7425 - lr: 0.0010\n",
      "Learning rate:  0.001\n",
      "Epoch 26/100\n",
      "232/232 [==============================] - ETA: 0s - loss: 0.3813 - accuracy: 0.8323WARNING:tensorflow:Can save best model only with val_acc available, skipping.\n",
      "232/232 [==============================] - 60s 259ms/step - loss: 0.3813 - accuracy: 0.8323 - val_loss: 0.6985 - val_accuracy: 0.6861 - lr: 0.0010\n",
      "Learning rate:  0.001\n",
      "Epoch 27/100\n",
      "232/232 [==============================] - ETA: 0s - loss: 0.3932 - accuracy: 0.8306WARNING:tensorflow:Can save best model only with val_acc available, skipping.\n",
      "232/232 [==============================] - 60s 260ms/step - loss: 0.3932 - accuracy: 0.8306 - val_loss: 0.6177 - val_accuracy: 0.6861 - lr: 0.0010\n",
      "Learning rate:  0.001\n",
      "Epoch 28/100\n",
      "232/232 [==============================] - ETA: 0s - loss: 0.3941 - accuracy: 0.8332WARNING:tensorflow:Can save best model only with val_acc available, skipping.\n",
      "232/232 [==============================] - 60s 260ms/step - loss: 0.3941 - accuracy: 0.8332 - val_loss: 0.4519 - val_accuracy: 0.7887 - lr: 0.0010\n",
      "Learning rate:  0.001\n",
      "Epoch 29/100\n",
      "232/232 [==============================] - ETA: 0s - loss: 0.3686 - accuracy: 0.8505WARNING:tensorflow:Can save best model only with val_acc available, skipping.\n",
      "232/232 [==============================] - 59s 256ms/step - loss: 0.3686 - accuracy: 0.8505 - val_loss: 0.5433 - val_accuracy: 0.7445 - lr: 0.0010\n",
      "Learning rate:  0.001\n",
      "Epoch 30/100\n",
      "232/232 [==============================] - ETA: 0s - loss: 0.3695 - accuracy: 0.8462WARNING:tensorflow:Can save best model only with val_acc available, skipping.\n",
      "232/232 [==============================] - 59s 254ms/step - loss: 0.3695 - accuracy: 0.8462 - val_loss: 0.5710 - val_accuracy: 0.7425 - lr: 0.0010\n",
      "Learning rate:  0.001\n",
      "Epoch 31/100\n",
      "232/232 [==============================] - ETA: 0s - loss: 0.3539 - accuracy: 0.8557WARNING:tensorflow:Can save best model only with val_acc available, skipping.\n",
      "232/232 [==============================] - 60s 258ms/step - loss: 0.3539 - accuracy: 0.8557 - val_loss: 0.4546 - val_accuracy: 0.7968 - lr: 0.0010\n",
      "Learning rate:  0.001\n",
      "Epoch 32/100\n",
      "232/232 [==============================] - ETA: 0s - loss: 0.3477 - accuracy: 0.8548WARNING:tensorflow:Can save best model only with val_acc available, skipping.\n",
      "232/232 [==============================] - 62s 269ms/step - loss: 0.3477 - accuracy: 0.8548 - val_loss: 1.4921 - val_accuracy: 0.5573 - lr: 0.0010\n",
      "Learning rate:  0.001\n",
      "Epoch 33/100\n",
      "232/232 [==============================] - ETA: 0s - loss: 0.3738 - accuracy: 0.8289WARNING:tensorflow:Can save best model only with val_acc available, skipping.\n",
      "232/232 [==============================] - 60s 260ms/step - loss: 0.3738 - accuracy: 0.8289 - val_loss: 0.7093 - val_accuracy: 0.6942 - lr: 0.0010\n",
      "Learning rate:  0.001\n",
      "Epoch 34/100\n",
      "232/232 [==============================] - ETA: 0s - loss: 0.3088 - accuracy: 0.8634WARNING:tensorflow:Can save best model only with val_acc available, skipping.\n",
      "232/232 [==============================] - 60s 260ms/step - loss: 0.3088 - accuracy: 0.8634 - val_loss: 0.5564 - val_accuracy: 0.7384 - lr: 0.0010\n",
      "Learning rate:  0.001\n",
      "Epoch 35/100\n",
      "232/232 [==============================] - ETA: 0s - loss: 0.3741 - accuracy: 0.8470WARNING:tensorflow:Can save best model only with val_acc available, skipping.\n",
      "232/232 [==============================] - 60s 257ms/step - loss: 0.3741 - accuracy: 0.8470 - val_loss: 0.5161 - val_accuracy: 0.7988 - lr: 0.0010\n",
      "Learning rate:  0.001\n",
      "Epoch 36/100\n",
      "232/232 [==============================] - ETA: 0s - loss: 0.3553 - accuracy: 0.8479WARNING:tensorflow:Can save best model only with val_acc available, skipping.\n",
      "232/232 [==============================] - 61s 261ms/step - loss: 0.3553 - accuracy: 0.8479 - val_loss: 0.4473 - val_accuracy: 0.8068 - lr: 0.0010\n",
      "Learning rate:  0.001\n",
      "Epoch 37/100\n",
      "232/232 [==============================] - ETA: 0s - loss: 0.3096 - accuracy: 0.8781WARNING:tensorflow:Can save best model only with val_acc available, skipping.\n",
      "232/232 [==============================] - 60s 261ms/step - loss: 0.3096 - accuracy: 0.8781 - val_loss: 0.6862 - val_accuracy: 0.6962 - lr: 0.0010\n",
      "Learning rate:  0.001\n",
      "Epoch 38/100\n",
      "232/232 [==============================] - ETA: 0s - loss: 0.3437 - accuracy: 0.8505WARNING:tensorflow:Can save best model only with val_acc available, skipping.\n",
      "232/232 [==============================] - 59s 253ms/step - loss: 0.3437 - accuracy: 0.8505 - val_loss: 0.4817 - val_accuracy: 0.7867 - lr: 0.0010\n",
      "Learning rate:  0.001\n",
      "Epoch 39/100\n",
      "232/232 [==============================] - ETA: 0s - loss: 0.3645 - accuracy: 0.8557WARNING:tensorflow:Can save best model only with val_acc available, skipping.\n",
      "232/232 [==============================] - 58s 251ms/step - loss: 0.3645 - accuracy: 0.8557 - val_loss: 0.3847 - val_accuracy: 0.8249 - lr: 0.0010\n",
      "Learning rate:  0.001\n",
      "Epoch 40/100\n",
      "232/232 [==============================] - ETA: 0s - loss: 0.3361 - accuracy: 0.8522WARNING:tensorflow:Can save best model only with val_acc available, skipping.\n",
      "232/232 [==============================] - 62s 266ms/step - loss: 0.3361 - accuracy: 0.8522 - val_loss: 0.5450 - val_accuracy: 0.7505 - lr: 0.0010\n",
      "Learning rate:  0.001\n",
      "Epoch 41/100\n",
      "232/232 [==============================] - ETA: 0s - loss: 0.3224 - accuracy: 0.8643WARNING:tensorflow:Can save best model only with val_acc available, skipping.\n",
      "232/232 [==============================] - 60s 257ms/step - loss: 0.3224 - accuracy: 0.8643 - val_loss: 0.4221 - val_accuracy: 0.8310 - lr: 0.0010\n",
      "Learning rate:  0.001\n",
      "Epoch 42/100\n",
      "232/232 [==============================] - ETA: 0s - loss: 0.3014 - accuracy: 0.8747WARNING:tensorflow:Can save best model only with val_acc available, skipping.\n",
      "232/232 [==============================] - 60s 260ms/step - loss: 0.3014 - accuracy: 0.8747 - val_loss: 0.4247 - val_accuracy: 0.7988 - lr: 0.0010\n",
      "Learning rate:  0.001\n",
      "Epoch 43/100\n",
      "232/232 [==============================] - ETA: 0s - loss: 0.2994 - accuracy: 0.8747WARNING:tensorflow:Can save best model only with val_acc available, skipping.\n",
      "232/232 [==============================] - 60s 257ms/step - loss: 0.2994 - accuracy: 0.8747 - val_loss: 0.5559 - val_accuracy: 0.7404 - lr: 0.0010\n",
      "Learning rate:  0.001\n",
      "Epoch 44/100\n",
      "232/232 [==============================] - ETA: 0s - loss: 0.3120 - accuracy: 0.8678WARNING:tensorflow:Can save best model only with val_acc available, skipping.\n",
      "232/232 [==============================] - 59s 255ms/step - loss: 0.3120 - accuracy: 0.8678 - val_loss: 0.4328 - val_accuracy: 0.8089 - lr: 0.0010\n",
      "Learning rate:  0.001\n",
      "Epoch 45/100\n",
      "232/232 [==============================] - ETA: 0s - loss: 0.2893 - accuracy: 0.8876WARNING:tensorflow:Can save best model only with val_acc available, skipping.\n",
      "232/232 [==============================] - 60s 259ms/step - loss: 0.2893 - accuracy: 0.8876 - val_loss: 0.5966 - val_accuracy: 0.7726 - lr: 0.0010\n",
      "Learning rate:  0.001\n",
      "Epoch 46/100\n",
      "232/232 [==============================] - ETA: 0s - loss: 0.3096 - accuracy: 0.8712WARNING:tensorflow:Can save best model only with val_acc available, skipping.\n",
      "232/232 [==============================] - 60s 261ms/step - loss: 0.3096 - accuracy: 0.8712 - val_loss: 0.4563 - val_accuracy: 0.8028 - lr: 0.0010\n",
      "Learning rate:  0.001\n",
      "Epoch 47/100\n",
      "232/232 [==============================] - ETA: 0s - loss: 0.2715 - accuracy: 0.8825WARNING:tensorflow:Can save best model only with val_acc available, skipping.\n",
      "232/232 [==============================] - 60s 257ms/step - loss: 0.2715 - accuracy: 0.8825 - val_loss: 0.4962 - val_accuracy: 0.8089 - lr: 0.0010\n",
      "Learning rate:  0.001\n",
      "Epoch 48/100\n",
      "232/232 [==============================] - ETA: 0s - loss: 0.2901 - accuracy: 0.8704WARNING:tensorflow:Can save best model only with val_acc available, skipping.\n",
      "232/232 [==============================] - 60s 257ms/step - loss: 0.2901 - accuracy: 0.8704 - val_loss: 0.5337 - val_accuracy: 0.7586 - lr: 0.0010\n"
     ]
    },
    {
     "name": "stdout",
     "output_type": "stream",
     "text": [
      "Learning rate:  0.001\n",
      "Epoch 49/100\n",
      "232/232 [==============================] - ETA: 0s - loss: 0.2802 - accuracy: 0.9015WARNING:tensorflow:Can save best model only with val_acc available, skipping.\n",
      "232/232 [==============================] - 60s 259ms/step - loss: 0.2802 - accuracy: 0.9015 - val_loss: 0.5831 - val_accuracy: 0.7626 - lr: 0.0010\n",
      "Learning rate:  0.001\n",
      "Epoch 50/100\n",
      "232/232 [==============================] - ETA: 0s - loss: 0.2947 - accuracy: 0.8695WARNING:tensorflow:Can save best model only with val_acc available, skipping.\n",
      "232/232 [==============================] - 59s 256ms/step - loss: 0.2947 - accuracy: 0.8695 - val_loss: 0.5038 - val_accuracy: 0.7787 - lr: 0.0010\n",
      "Learning rate:  0.001\n",
      "Epoch 51/100\n",
      "232/232 [==============================] - ETA: 0s - loss: 0.2563 - accuracy: 0.8971WARNING:tensorflow:Can save best model only with val_acc available, skipping.\n",
      "232/232 [==============================] - 60s 257ms/step - loss: 0.2563 - accuracy: 0.8971 - val_loss: 0.4073 - val_accuracy: 0.8149 - lr: 0.0010\n",
      "Learning rate:  0.001\n",
      "Epoch 52/100\n",
      "232/232 [==============================] - ETA: 0s - loss: 0.2557 - accuracy: 0.8937WARNING:tensorflow:Can save best model only with val_acc available, skipping.\n",
      "232/232 [==============================] - 60s 259ms/step - loss: 0.2557 - accuracy: 0.8937 - val_loss: 0.7022 - val_accuracy: 0.6901 - lr: 0.0010\n",
      "Learning rate:  0.001\n",
      "Epoch 53/100\n",
      "232/232 [==============================] - ETA: 0s - loss: 0.2704 - accuracy: 0.8920WARNING:tensorflow:Can save best model only with val_acc available, skipping.\n",
      "232/232 [==============================] - 59s 255ms/step - loss: 0.2704 - accuracy: 0.8920 - val_loss: 0.6647 - val_accuracy: 0.7203 - lr: 0.0010\n",
      "Learning rate:  0.001\n",
      "Epoch 54/100\n",
      "232/232 [==============================] - ETA: 0s - loss: 0.2557 - accuracy: 0.8920WARNING:tensorflow:Can save best model only with val_acc available, skipping.\n",
      "232/232 [==============================] - 60s 257ms/step - loss: 0.2557 - accuracy: 0.8920 - val_loss: 0.4523 - val_accuracy: 0.7887 - lr: 0.0010\n",
      "Learning rate:  0.001\n",
      "Epoch 55/100\n",
      "232/232 [==============================] - ETA: 0s - loss: 0.2516 - accuracy: 0.8928WARNING:tensorflow:Can save best model only with val_acc available, skipping.\n",
      "232/232 [==============================] - 60s 260ms/step - loss: 0.2516 - accuracy: 0.8928 - val_loss: 0.6059 - val_accuracy: 0.7505 - lr: 0.0010\n",
      "Learning rate:  0.001\n",
      "Epoch 56/100\n",
      "232/232 [==============================] - ETA: 0s - loss: 0.2267 - accuracy: 0.9170WARNING:tensorflow:Can save best model only with val_acc available, skipping.\n",
      "232/232 [==============================] - 61s 262ms/step - loss: 0.2267 - accuracy: 0.9170 - val_loss: 0.4527 - val_accuracy: 0.8068 - lr: 0.0010\n",
      "Learning rate:  0.001\n",
      "Epoch 57/100\n",
      "232/232 [==============================] - ETA: 0s - loss: 0.2395 - accuracy: 0.8989WARNING:tensorflow:Can save best model only with val_acc available, skipping.\n",
      "232/232 [==============================] - 61s 261ms/step - loss: 0.2395 - accuracy: 0.8989 - val_loss: 0.5172 - val_accuracy: 0.7827 - lr: 0.0010\n",
      "Learning rate:  0.001\n",
      "Epoch 58/100\n",
      "232/232 [==============================] - ETA: 0s - loss: 0.2244 - accuracy: 0.9041WARNING:tensorflow:Can save best model only with val_acc available, skipping.\n",
      "232/232 [==============================] - 59s 255ms/step - loss: 0.2244 - accuracy: 0.9041 - val_loss: 0.8085 - val_accuracy: 0.7485 - lr: 0.0010\n",
      "Learning rate:  0.001\n",
      "Epoch 59/100\n",
      "232/232 [==============================] - ETA: 0s - loss: 0.2434 - accuracy: 0.8971WARNING:tensorflow:Can save best model only with val_acc available, skipping.\n",
      "232/232 [==============================] - 59s 254ms/step - loss: 0.2434 - accuracy: 0.8971 - val_loss: 0.6916 - val_accuracy: 0.7062 - lr: 0.0010\n",
      "Learning rate:  0.001\n",
      "Epoch 60/100\n",
      "232/232 [==============================] - ETA: 0s - loss: 0.2277 - accuracy: 0.9101WARNING:tensorflow:Can save best model only with val_acc available, skipping.\n",
      "232/232 [==============================] - 59s 256ms/step - loss: 0.2277 - accuracy: 0.9101 - val_loss: 0.5765 - val_accuracy: 0.7404 - lr: 0.0010\n",
      "Learning rate:  0.001\n",
      "Epoch 61/100\n",
      "232/232 [==============================] - ETA: 0s - loss: 0.2582 - accuracy: 0.8928WARNING:tensorflow:Can save best model only with val_acc available, skipping.\n",
      "232/232 [==============================] - 59s 255ms/step - loss: 0.2582 - accuracy: 0.8928 - val_loss: 0.5100 - val_accuracy: 0.7887 - lr: 0.0010\n",
      "Learning rate:  0.001\n",
      "Epoch 62/100\n",
      "232/232 [==============================] - ETA: 0s - loss: 0.2334 - accuracy: 0.9015WARNING:tensorflow:Can save best model only with val_acc available, skipping.\n",
      "232/232 [==============================] - 59s 255ms/step - loss: 0.2334 - accuracy: 0.9015 - val_loss: 0.5933 - val_accuracy: 0.7384 - lr: 0.0010\n",
      "Learning rate:  0.001\n",
      "Epoch 63/100\n",
      "232/232 [==============================] - ETA: 0s - loss: 0.2189 - accuracy: 0.9188WARNING:tensorflow:Can save best model only with val_acc available, skipping.\n",
      "232/232 [==============================] - 60s 257ms/step - loss: 0.2189 - accuracy: 0.9188 - val_loss: 0.6642 - val_accuracy: 0.7404 - lr: 0.0010\n",
      "Learning rate:  0.001\n",
      "Epoch 64/100\n",
      "232/232 [==============================] - ETA: 0s - loss: 0.1903 - accuracy: 0.9274WARNING:tensorflow:Can save best model only with val_acc available, skipping.\n",
      "232/232 [==============================] - 60s 260ms/step - loss: 0.1903 - accuracy: 0.9274 - val_loss: 0.4814 - val_accuracy: 0.7887 - lr: 0.0010\n",
      "Learning rate:  0.001\n",
      "Epoch 65/100\n",
      "232/232 [==============================] - ETA: 0s - loss: 0.1845 - accuracy: 0.9257WARNING:tensorflow:Can save best model only with val_acc available, skipping.\n",
      "232/232 [==============================] - 61s 263ms/step - loss: 0.1845 - accuracy: 0.9257 - val_loss: 0.7371 - val_accuracy: 0.7183 - lr: 0.0010\n",
      "Learning rate:  0.001\n",
      "Epoch 66/100\n",
      "232/232 [==============================] - ETA: 0s - loss: 0.2176 - accuracy: 0.9049WARNING:tensorflow:Can save best model only with val_acc available, skipping.\n",
      "232/232 [==============================] - 59s 254ms/step - loss: 0.2176 - accuracy: 0.9049 - val_loss: 0.5407 - val_accuracy: 0.7968 - lr: 0.0010\n",
      "Learning rate:  0.001\n",
      "Epoch 67/100\n",
      "232/232 [==============================] - ETA: 0s - loss: 0.1926 - accuracy: 0.9222WARNING:tensorflow:Can save best model only with val_acc available, skipping.\n",
      "232/232 [==============================] - 59s 256ms/step - loss: 0.1926 - accuracy: 0.9222 - val_loss: 0.5381 - val_accuracy: 0.7867 - lr: 0.0010\n",
      "Learning rate:  0.001\n",
      "Epoch 68/100\n",
      "232/232 [==============================] - ETA: 0s - loss: 0.2188 - accuracy: 0.9170WARNING:tensorflow:Can save best model only with val_acc available, skipping.\n",
      "232/232 [==============================] - 60s 258ms/step - loss: 0.2188 - accuracy: 0.9170 - val_loss: 0.5283 - val_accuracy: 0.7968 - lr: 0.0010\n",
      "Learning rate:  0.001\n",
      "Epoch 69/100\n",
      "232/232 [==============================] - ETA: 0s - loss: 0.2213 - accuracy: 0.9118WARNING:tensorflow:Can save best model only with val_acc available, skipping.\n",
      "232/232 [==============================] - 60s 259ms/step - loss: 0.2213 - accuracy: 0.9118 - val_loss: 0.5511 - val_accuracy: 0.7606 - lr: 0.0010\n",
      "Learning rate:  0.001\n",
      "Epoch 70/100\n",
      "232/232 [==============================] - ETA: 0s - loss: 0.1862 - accuracy: 0.9300WARNING:tensorflow:Can save best model only with val_acc available, skipping.\n",
      "232/232 [==============================] - 63s 270ms/step - loss: 0.1862 - accuracy: 0.9300 - val_loss: 0.5305 - val_accuracy: 0.7907 - lr: 0.0010\n",
      "Learning rate:  0.001\n",
      "Epoch 71/100\n",
      "232/232 [==============================] - ETA: 0s - loss: 0.1841 - accuracy: 0.9222WARNING:tensorflow:Can save best model only with val_acc available, skipping.\n",
      "232/232 [==============================] - 59s 254ms/step - loss: 0.1841 - accuracy: 0.9222 - val_loss: 0.5022 - val_accuracy: 0.8028 - lr: 0.0010\n",
      "Learning rate:  0.001\n",
      "Epoch 72/100\n",
      "232/232 [==============================] - ETA: 0s - loss: 0.1724 - accuracy: 0.9352WARNING:tensorflow:Can save best model only with val_acc available, skipping.\n",
      "232/232 [==============================] - 58s 252ms/step - loss: 0.1724 - accuracy: 0.9352 - val_loss: 0.5536 - val_accuracy: 0.7626 - lr: 0.0010\n"
     ]
    },
    {
     "name": "stdout",
     "output_type": "stream",
     "text": [
      "Learning rate:  0.001\n",
      "Epoch 73/100\n",
      "232/232 [==============================] - ETA: 0s - loss: 0.2035 - accuracy: 0.9205WARNING:tensorflow:Can save best model only with val_acc available, skipping.\n",
      "232/232 [==============================] - 58s 251ms/step - loss: 0.2035 - accuracy: 0.9205 - val_loss: 0.5326 - val_accuracy: 0.7968 - lr: 0.0010\n",
      "Learning rate:  0.001\n",
      "Epoch 74/100\n",
      "232/232 [==============================] - ETA: 0s - loss: 0.1872 - accuracy: 0.9274WARNING:tensorflow:Can save best model only with val_acc available, skipping.\n",
      "232/232 [==============================] - 58s 252ms/step - loss: 0.1872 - accuracy: 0.9274 - val_loss: 0.6409 - val_accuracy: 0.7586 - lr: 0.0010\n",
      "Learning rate:  0.001\n",
      "Epoch 75/100\n",
      "232/232 [==============================] - ETA: 0s - loss: 0.1586 - accuracy: 0.9343WARNING:tensorflow:Can save best model only with val_acc available, skipping.\n",
      "232/232 [==============================] - 58s 250ms/step - loss: 0.1586 - accuracy: 0.9343 - val_loss: 0.4919 - val_accuracy: 0.7968 - lr: 0.0010\n",
      "Learning rate:  0.001\n",
      "Epoch 76/100\n",
      "232/232 [==============================] - ETA: 0s - loss: 0.2030 - accuracy: 0.9162WARNING:tensorflow:Can save best model only with val_acc available, skipping.\n",
      "232/232 [==============================] - 60s 259ms/step - loss: 0.2030 - accuracy: 0.9162 - val_loss: 0.6685 - val_accuracy: 0.7606 - lr: 0.0010\n",
      "Learning rate:  0.001\n",
      "Epoch 77/100\n",
      "232/232 [==============================] - ETA: 0s - loss: 0.1536 - accuracy: 0.9386WARNING:tensorflow:Can save best model only with val_acc available, skipping.\n",
      "232/232 [==============================] - 60s 257ms/step - loss: 0.1536 - accuracy: 0.9386 - val_loss: 0.7809 - val_accuracy: 0.7505 - lr: 0.0010\n",
      "Learning rate:  0.001\n",
      "Epoch 78/100\n",
      "232/232 [==============================] - ETA: 0s - loss: 0.1783 - accuracy: 0.9334WARNING:tensorflow:Can save best model only with val_acc available, skipping.\n",
      "232/232 [==============================] - 60s 257ms/step - loss: 0.1783 - accuracy: 0.9334 - val_loss: 0.5274 - val_accuracy: 0.8209 - lr: 0.0010\n",
      "Learning rate:  0.001\n",
      "Epoch 79/100\n",
      "232/232 [==============================] - ETA: 0s - loss: 0.1630 - accuracy: 0.9326WARNING:tensorflow:Can save best model only with val_acc available, skipping.\n",
      "232/232 [==============================] - 59s 253ms/step - loss: 0.1630 - accuracy: 0.9326 - val_loss: 0.5392 - val_accuracy: 0.8068 - lr: 0.0010\n",
      "Learning rate:  0.001\n",
      "Epoch 80/100\n",
      "232/232 [==============================] - ETA: 0s - loss: 0.1556 - accuracy: 0.9404WARNING:tensorflow:Can save best model only with val_acc available, skipping.\n",
      "232/232 [==============================] - 59s 253ms/step - loss: 0.1556 - accuracy: 0.9404 - val_loss: 0.6513 - val_accuracy: 0.7666 - lr: 0.0010\n",
      "Learning rate:  0.001\n",
      "Epoch 81/100\n",
      "232/232 [==============================] - ETA: 0s - loss: 0.1815 - accuracy: 0.9360WARNING:tensorflow:Can save best model only with val_acc available, skipping.\n",
      "232/232 [==============================] - 58s 252ms/step - loss: 0.1815 - accuracy: 0.9360 - val_loss: 0.5603 - val_accuracy: 0.8068 - lr: 0.0010\n",
      "Learning rate:  0.0001\n",
      "Epoch 82/100\n",
      "232/232 [==============================] - ETA: 0s - loss: 0.1360 - accuracy: 0.9464WARNING:tensorflow:Can save best model only with val_acc available, skipping.\n",
      "232/232 [==============================] - 57s 246ms/step - loss: 0.1360 - accuracy: 0.9464 - val_loss: 0.6001 - val_accuracy: 0.7948 - lr: 1.0000e-04\n",
      "Learning rate:  0.0001\n",
      "Epoch 83/100\n",
      "232/232 [==============================] - ETA: 0s - loss: 0.1100 - accuracy: 0.9594WARNING:tensorflow:Can save best model only with val_acc available, skipping.\n",
      "232/232 [==============================] - 58s 252ms/step - loss: 0.1100 - accuracy: 0.9594 - val_loss: 0.6247 - val_accuracy: 0.7928 - lr: 1.0000e-04\n",
      "Learning rate:  0.0001\n",
      "Epoch 84/100\n",
      "232/232 [==============================] - ETA: 0s - loss: 0.1032 - accuracy: 0.9646WARNING:tensorflow:Can save best model only with val_acc available, skipping.\n",
      "232/232 [==============================] - 57s 244ms/step - loss: 0.1032 - accuracy: 0.9646 - val_loss: 0.5479 - val_accuracy: 0.8048 - lr: 1.0000e-04\n",
      "Learning rate:  0.0001\n",
      "Epoch 85/100\n",
      "232/232 [==============================] - ETA: 0s - loss: 0.1136 - accuracy: 0.9637WARNING:tensorflow:Can save best model only with val_acc available, skipping.\n",
      "232/232 [==============================] - 58s 248ms/step - loss: 0.1136 - accuracy: 0.9637 - val_loss: 0.6345 - val_accuracy: 0.7787 - lr: 1.0000e-04\n",
      "Learning rate:  0.0001\n",
      "Epoch 86/100\n",
      "232/232 [==============================] - ETA: 0s - loss: 0.1026 - accuracy: 0.9602WARNING:tensorflow:Can save best model only with val_acc available, skipping.\n",
      "232/232 [==============================] - 61s 262ms/step - loss: 0.1026 - accuracy: 0.9602 - val_loss: 0.6035 - val_accuracy: 0.7968 - lr: 1.0000e-04\n",
      "Learning rate:  0.0001\n",
      "Epoch 87/100\n",
      "232/232 [==============================] - ETA: 0s - loss: 0.0985 - accuracy: 0.9697WARNING:tensorflow:Can save best model only with val_acc available, skipping.\n",
      "232/232 [==============================] - 58s 251ms/step - loss: 0.0985 - accuracy: 0.9697 - val_loss: 0.5906 - val_accuracy: 0.7907 - lr: 1.0000e-04\n",
      "Learning rate:  0.0001\n",
      "Epoch 88/100\n",
      "232/232 [==============================] - ETA: 0s - loss: 0.0919 - accuracy: 0.9706WARNING:tensorflow:Can save best model only with val_acc available, skipping.\n",
      "232/232 [==============================] - 57s 245ms/step - loss: 0.0919 - accuracy: 0.9706 - val_loss: 0.6040 - val_accuracy: 0.7948 - lr: 1.0000e-04\n",
      "Learning rate:  0.0001\n",
      "Epoch 89/100\n",
      "232/232 [==============================] - ETA: 0s - loss: 0.1049 - accuracy: 0.9594WARNING:tensorflow:Can save best model only with val_acc available, skipping.\n",
      "232/232 [==============================] - 57s 245ms/step - loss: 0.1049 - accuracy: 0.9594 - val_loss: 0.5955 - val_accuracy: 0.7907 - lr: 1.0000e-04\n",
      "Learning rate:  0.0001\n",
      "Epoch 90/100\n",
      "232/232 [==============================] - ETA: 0s - loss: 0.1059 - accuracy: 0.9594WARNING:tensorflow:Can save best model only with val_acc available, skipping.\n",
      "232/232 [==============================] - 55s 238ms/step - loss: 0.1059 - accuracy: 0.9594 - val_loss: 0.5582 - val_accuracy: 0.7907 - lr: 1.0000e-04\n",
      "Learning rate:  0.0001\n",
      "Epoch 91/100\n",
      "232/232 [==============================] - ETA: 0s - loss: 0.0879 - accuracy: 0.9663WARNING:tensorflow:Can save best model only with val_acc available, skipping.\n",
      "232/232 [==============================] - 57s 245ms/step - loss: 0.0879 - accuracy: 0.9663 - val_loss: 0.6656 - val_accuracy: 0.7746 - lr: 1.0000e-04\n",
      "Learning rate:  0.0001\n",
      "Epoch 92/100\n",
      "232/232 [==============================] - ETA: 0s - loss: 0.0942 - accuracy: 0.9646WARNING:tensorflow:Can save best model only with val_acc available, skipping.\n",
      "232/232 [==============================] - 57s 247ms/step - loss: 0.0942 - accuracy: 0.9646 - val_loss: 0.6162 - val_accuracy: 0.7867 - lr: 1.0000e-04\n",
      "Learning rate:  0.0001\n",
      "Epoch 93/100\n",
      "232/232 [==============================] - ETA: 0s - loss: 0.1040 - accuracy: 0.9576WARNING:tensorflow:Can save best model only with val_acc available, skipping.\n",
      "232/232 [==============================] - 57s 247ms/step - loss: 0.1040 - accuracy: 0.9576 - val_loss: 0.6793 - val_accuracy: 0.7726 - lr: 1.0000e-04\n",
      "Learning rate:  0.0001\n",
      "Epoch 94/100\n",
      "232/232 [==============================] - ETA: 0s - loss: 0.0871 - accuracy: 0.9706WARNING:tensorflow:Can save best model only with val_acc available, skipping.\n",
      "232/232 [==============================] - 55s 238ms/step - loss: 0.0871 - accuracy: 0.9706 - val_loss: 0.6131 - val_accuracy: 0.7907 - lr: 1.0000e-04\n",
      "Learning rate:  0.0001\n",
      "Epoch 95/100\n",
      "232/232 [==============================] - ETA: 0s - loss: 0.0771 - accuracy: 0.9715WARNING:tensorflow:Can save best model only with val_acc available, skipping.\n",
      "232/232 [==============================] - 55s 236ms/step - loss: 0.0771 - accuracy: 0.9715 - val_loss: 0.6256 - val_accuracy: 0.7847 - lr: 1.0000e-04\n",
      "Learning rate:  0.0001\n",
      "Epoch 96/100\n",
      "232/232 [==============================] - ETA: 0s - loss: 0.0783 - accuracy: 0.9732WARNING:tensorflow:Can save best model only with val_acc available, skipping.\n",
      "232/232 [==============================] - 57s 245ms/step - loss: 0.0783 - accuracy: 0.9732 - val_loss: 0.6481 - val_accuracy: 0.7887 - lr: 1.0000e-04\n"
     ]
    },
    {
     "name": "stdout",
     "output_type": "stream",
     "text": [
      "Learning rate:  0.0001\n",
      "Epoch 97/100\n",
      "232/232 [==============================] - ETA: 0s - loss: 0.0659 - accuracy: 0.9784WARNING:tensorflow:Can save best model only with val_acc available, skipping.\n",
      "232/232 [==============================] - 56s 242ms/step - loss: 0.0659 - accuracy: 0.9784 - val_loss: 0.6052 - val_accuracy: 0.7968 - lr: 1.0000e-04\n",
      "Learning rate:  0.0001\n",
      "Epoch 98/100\n",
      "232/232 [==============================] - ETA: 0s - loss: 0.0722 - accuracy: 0.9697WARNING:tensorflow:Can save best model only with val_acc available, skipping.\n",
      "232/232 [==============================] - 57s 244ms/step - loss: 0.0722 - accuracy: 0.9697 - val_loss: 0.6052 - val_accuracy: 0.7968 - lr: 1.0000e-04\n",
      "Learning rate:  0.0001\n",
      "Epoch 99/100\n",
      "232/232 [==============================] - ETA: 0s - loss: 0.0739 - accuracy: 0.9767WARNING:tensorflow:Can save best model only with val_acc available, skipping.\n",
      "232/232 [==============================] - 58s 249ms/step - loss: 0.0739 - accuracy: 0.9767 - val_loss: 0.6788 - val_accuracy: 0.7887 - lr: 1.0000e-04\n",
      "Learning rate:  0.0001\n",
      "Epoch 100/100\n",
      "232/232 [==============================] - ETA: 0s - loss: 0.0650 - accuracy: 0.9775WARNING:tensorflow:Can save best model only with val_acc available, skipping.\n",
      "232/232 [==============================] - 57s 247ms/step - loss: 0.0650 - accuracy: 0.9775 - val_loss: 0.6741 - val_accuracy: 0.7847 - lr: 1.0000e-04\n"
     ]
    }
   ],
   "source": [
    "history = model.fit(x_train, y_train,batch_size=batch_size,epochs=epochs,validation_data=(x_test, y_test),shuffle=True,callbacks=callbacks)"
   ]
  },
  {
   "cell_type": "code",
   "execution_count": 104,
   "id": "28543a4d",
   "metadata": {},
   "outputs": [
    {
     "name": "stdout",
     "output_type": "stream",
     "text": [
      "saved model to disk\n"
     ]
    }
   ],
   "source": [
    "with open(\"./model.json\", \"w\") as json_file:\n",
    "  json_file.write(model.to_json())\n",
    "  model.save_weights(\"./model_weights.h5\")\n",
    "  print(\"saved model to disk\")"
   ]
  },
  {
   "cell_type": "code",
   "execution_count": 105,
   "id": "d78db5a8",
   "metadata": {},
   "outputs": [
    {
     "name": "stdout",
     "output_type": "stream",
     "text": [
      "16/16 [==============================] - 2s 117ms/step - loss: 0.6741 - accuracy: 0.7847\n"
     ]
    }
   ],
   "source": [
    "loss, acc = model.evaluate(x_test, y_test)"
   ]
  },
  {
   "cell_type": "code",
   "execution_count": 106,
   "id": "b8e8c2e1",
   "metadata": {},
   "outputs": [
    {
     "name": "stdout",
     "output_type": "stream",
     "text": [
      "loss:  0.6740607619285583 , Accuracy:  0.7847082614898682\n"
     ]
    }
   ],
   "source": [
    "print(\"loss: \",loss,\", Accuracy: \", acc)"
   ]
  },
  {
   "cell_type": "code",
   "execution_count": 58,
   "id": "2ccbb69a",
   "metadata": {
    "scrolled": true
   },
   "outputs": [
    {
     "name": "stdout",
     "output_type": "stream",
     "text": [
      "dict_keys(['loss', 'accuracy', 'val_loss', 'val_accuracy', 'lr'])\n"
     ]
    },
    {
     "data": {
      "image/png": "[encoded data removed]",
      "text/plain": [
       "<Figure size 432x288 with 1 Axes>"
      ]
     },
     "metadata": {
      "needs_background": "light"
     },
     "output_type": "display_data"
    },
    {
     "data": {
      "image/png": "[encoded data removed]",
      "text/plain": [
       "<Figure size 432x288 with 1 Axes>"
      ]
     },
     "metadata": {
      "needs_background": "light"
     },
     "output_type": "display_data"
    }
   ],
   "source": [
    "print(history.history.keys())\n",
    "# summarize history for accuracy\n",
    "plt.plot(history.history['accuracy'])\n",
    "plt.plot(history.history['val_accuracy'])\n",
    "plt.title('model accuracy')\n",
    "plt.ylabel('accuracy')\n",
    "plt.xlabel('epoch')\n",
    "plt.legend(['train', 'test'], loc='upper left')\n",
    "plt.show()\n",
    "# summarize history for loss\n",
    "plt.plot(history.history['loss'])\n",
    "plt.plot(history.history['val_loss'])\n",
    "plt.title('model loss')\n",
    "plt.ylabel('loss')\n",
    "plt.xlabel('epoch')\n",
    "plt.legend(['train', 'test'], loc='upper left')\n",
    "plt.show()"
   ]
  },
  {
   "cell_type": "code",
   "execution_count": 107,
   "id": "5d3bd2d9",
   "metadata": {},
   "outputs": [],
   "source": [
    "from keras.models import model_from_json"
   ]
  },
  {
   "cell_type": "code",
   "execution_count": 108,
   "id": "21940392",
   "metadata": {},
   "outputs": [
    {
     "name": "stdout",
     "output_type": "stream",
     "text": [
      "Loaded model from disk\n",
      "Testing accuracy: 78.47%\n",
      "Training accuracy: 99.14%\n"
     ]
    }
   ],
   "source": [
    "# load json and create model\n",
    "json_file = open('model.json', 'r')\n",
    "loaded_model_json = json_file.read()\n",
    "json_file.close()\n",
    "loaded_model = model_from_json(loaded_model_json)\n",
    "# load weights into new model\n",
    "loaded_model.load_weights(\"model_weights.h5\")\n",
    "print(\"Loaded model from disk\")\n",
    " \n",
    "# evaluate loaded model on test data\n",
    "loaded_model.compile(loss='binary_crossentropy', optimizer='rmsprop', metrics=['accuracy'])\n",
    "score = loaded_model.evaluate(x_test, y_test, verbose=0)\n",
    "print('Testing '\"%s: %.2f%%\" % (loaded_model.metrics_names[1], score[1]*100))\n",
    "\n",
    "# evaluate loaded model on train data\n",
    "score = loaded_model.evaluate(x_train, y_train, verbose=0)\n",
    "print('Training '\"%s: %.2f%%\" % (loaded_model.metrics_names[1], score[1]*100))\n"
   ]
  },
  {
   "cell_type": "code",
   "execution_count": null,
   "id": "809cabb3",
   "metadata": {},
   "outputs": [],
   "source": []
  }
 ],
 "metadata": {
  "kernelspec": {
   "display_name": "Python 3 (ipykernel)",
   "language": "python",
   "name": "python3"
  },
  "language_info": {
   "codemirror_mode": {
    "name": "ipython",
    "version": 3
   },
   "file_extension": ".py",
   "mimetype": "text/x-python",
   "name": "python",
   "nbconvert_exporter": "python",
   "pygments_lexer": "ipython3",
   "version": "3.9.7"
  }
 },
 "nbformat": 4,
 "nbformat_minor": 5
}
